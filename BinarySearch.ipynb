{
 "cells": [
  {
   "cell_type": "markdown",
   "id": "1116681c",
   "metadata": {},
   "source": [
    "### Binary Search Code\n"
   ]
  },
  {
   "cell_type": "code",
   "execution_count": null,
   "id": "38b35141",
   "metadata": {},
   "outputs": [],
   "source": [
    "#this algo only works on sorted array"
   ]
  },
  {
   "cell_type": "code",
   "execution_count": 22,
   "id": "a8daa16e",
   "metadata": {},
   "outputs": [],
   "source": [
    "def BinarySearch(arr,num):\n",
    "    i=0 \n",
    "    j=len(arr)-1\n",
    "    \n",
    "    while i<=j:\n",
    "        mid=(i+j)//2\n",
    "        \n",
    "        if(arr[mid]>num):\n",
    "            j=mid-1\n",
    "        elif arr[mid]<num:\n",
    "            i=mid+1\n",
    "            \n",
    "        else:\n",
    "            return mid\n",
    "        \n",
    "    return -1"
   ]
  },
  {
   "cell_type": "code",
   "execution_count": 26,
   "id": "2a0084a4",
   "metadata": {},
   "outputs": [
    {
     "data": {
      "text/plain": [
       "4"
      ]
     },
     "execution_count": 26,
     "metadata": {},
     "output_type": "execute_result"
    }
   ],
   "source": [
    "BinarySearch([1,2,3,4,5,6],5)"
   ]
  },
  {
   "cell_type": "code",
   "execution_count": null,
   "id": "1750b222",
   "metadata": {},
   "outputs": [],
   "source": []
  }
 ],
 "metadata": {
  "kernelspec": {
   "display_name": "Python 3",
   "language": "python",
   "name": "python3"
  },
  "language_info": {
   "codemirror_mode": {
    "name": "ipython",
    "version": 3
   },
   "file_extension": ".py",
   "mimetype": "text/x-python",
   "name": "python",
   "nbconvert_exporter": "python",
   "pygments_lexer": "ipython3",
   "version": "3.8.8"
  }
 },
 "nbformat": 4,
 "nbformat_minor": 5
}
