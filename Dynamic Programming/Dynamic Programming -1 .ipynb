{
 "cells": [
  {
   "cell_type": "code",
   "execution_count": 1,
   "id": "adbbdfa7",
   "metadata": {},
   "outputs": [],
   "source": [
    "def fibonnaci(n):\n",
    "    prev=0\n",
    "    prev2=1\n",
    "    for i in range ( 2,n+1):\n",
    "        curr=prev+prev2\n",
    "        prev2=prev\n",
    "        prev=curr\n",
    "    return prev"
   ]
  },
  {
   "cell_type": "code",
   "execution_count": 3,
   "id": "38cca8fc",
   "metadata": {},
   "outputs": [
    {
     "data": {
      "text/plain": [
       "3"
      ]
     },
     "execution_count": 3,
     "metadata": {},
     "output_type": "execute_result"
    }
   ],
   "source": [
    "fibonnaci(5)"
   ]
  },
  {
   "cell_type": "code",
   "execution_count": 9,
   "id": "f0b87ef9",
   "metadata": {},
   "outputs": [],
   "source": [
    "def fibRecursive (n):\n",
    "    if n<=1:\n",
    "        return 1\n",
    "    return fibRecursive(n-1)+fibRecursive(n-2)"
   ]
  },
  {
   "cell_type": "code",
   "execution_count": 11,
   "id": "370046f4",
   "metadata": {},
   "outputs": [
    {
     "data": {
      "text/plain": [
       "8"
      ]
     },
     "execution_count": 11,
     "metadata": {},
     "output_type": "execute_result"
    }
   ],
   "source": [
    "fibRecursive(5)"
   ]
  },
  {
   "cell_type": "code",
   "execution_count": null,
   "id": "1d97c0db",
   "metadata": {},
   "outputs": [],
   "source": [
    "def climbingStairs(n):\n",
    "    "
   ]
  }
 ],
 "metadata": {
  "kernelspec": {
   "display_name": "Python 3",
   "language": "python",
   "name": "python3"
  },
  "language_info": {
   "codemirror_mode": {
    "name": "ipython",
    "version": 3
   },
   "file_extension": ".py",
   "mimetype": "text/x-python",
   "name": "python",
   "nbconvert_exporter": "python",
   "pygments_lexer": "ipython3",
   "version": "3.8.8"
  }
 },
 "nbformat": 4,
 "nbformat_minor": 5
}
