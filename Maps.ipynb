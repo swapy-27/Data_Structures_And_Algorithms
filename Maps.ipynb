{
 "cells": [
  {
   "cell_type": "code",
   "execution_count": 31,
   "id": "2b5c30a1",
   "metadata": {},
   "outputs": [],
   "source": [
    "import queue\n",
    "class Graph:\n",
    "    def __init__(self,nVertices):\n",
    "        self.nVertices=nVertices\n",
    "        self.adjMatrix=[[0 for i in range(nVertices)]for j in range (nVertices)]\n",
    "        \n",
    "    def addEdge(self,v1,v2):\n",
    "        self.adjMatrix[v1][v2]=1\n",
    "        self.adjMatrix[v2][v1]=1\n",
    "    \n",
    "    def removeEdge(self,v1,v2):\n",
    "        if self.containsEdge(v1,v2) is False:\n",
    "            return\n",
    "        self.adjMatrix[v1][v2]=0\n",
    "        self.adjMatrix[v2][v1]=0\n",
    "    def __dfsHelper(self,sv,visited):\n",
    "        print(sv)\n",
    "        visited[sv]=True\n",
    "        for i in range(self.nVertices):\n",
    "            if self.adjMatrix[sv][i]>0 and visited[i]==False:\n",
    "                self.__dfsHelper(i,visited)\n",
    "        \n",
    "    def dfs(self):\n",
    "        visited=[False for i in range (self.nVertices)]\n",
    "        for i in range (self.nVertices):\n",
    "            if visited[i] is False:\n",
    "                self.__dfsHelper(i,visited)\n",
    "        self.__dfsHelper(0,visited)\n",
    "    def bfs(self):\n",
    "        q=queue.Queue()\n",
    "        q.put(0)\n",
    "        visited=[False for i in range(self.nVertices)]\n",
    "        visited[0]=True\n",
    "        while q.empty() is False:\n",
    "            u=q.get()\n",
    "            print(u)\n",
    "            for i in range (self.nVertices):\n",
    "                if self.adjMatrix[u][i]>0 and visited[i]==False:\n",
    "                    q.put(i)\n",
    "                    visited[i]=True\n",
    "                \n",
    "    def containsEdge(self,v1,v2):\n",
    "        return True if self.adjMatrix[v1][v2]>0 else False\n",
    "    def __hasPathHelper(self,v1,v2,visited):\n",
    "        visited[v1]=True\n",
    "        if self.adjMatrix[v1][v2]>0:\n",
    "            return True\n",
    "        for i in range (self.nVertices):\n",
    "                if self.adjMatrix[v1][i]>0 and visited[i]==False:\n",
    "                    return self.__hasPathHelper(i,v2,visited)\n",
    "                    \n",
    "        return False\n",
    "                    \n",
    "        \n",
    "    def hasPath(self,v1,v2):\n",
    "        visited = [False for i in range (0,self.nVertices)]\n",
    "        ans = self.__hasPathHelper(v1,v2,visited)\n",
    "        return ans\n",
    "    def __str__(self):\n",
    "        return str(self.adjMatrix)"
   ]
  },
  {
   "cell_type": "code",
   "execution_count": 28,
   "id": "4b030b07",
   "metadata": {
    "scrolled": true
   },
   "outputs": [
    {
     "name": "stdout",
     "output_type": "stream",
     "text": [
      "[[0, 1, 0, 0, 0, 0], [1, 0, 0, 0, 0, 0], [0, 0, 0, 0, 0, 0], [0, 0, 0, 0, 1, 1], [0, 0, 0, 1, 0, 0], [0, 0, 0, 1, 0, 0]]\n"
     ]
    }
   ],
   "source": [
    "g=Graph(6)\n",
    "\n",
    "g.addEdge(5,3)\n",
    "g.addEdge(0,1)\n",
    "g.addEdge(3,4)\n",
    "\n",
    "\n",
    "print(g)"
   ]
  },
  {
   "cell_type": "code",
   "execution_count": 29,
   "id": "fd952155",
   "metadata": {},
   "outputs": [
    {
     "name": "stdout",
     "output_type": "stream",
     "text": [
      "0\n",
      "1\n",
      "2\n",
      "3\n",
      "4\n",
      "5\n",
      "0\n"
     ]
    }
   ],
   "source": [
    "g.dfs()"
   ]
  },
  {
   "cell_type": "code",
   "execution_count": 26,
   "id": "dbe653ad",
   "metadata": {
    "scrolled": true
   },
   "outputs": [
    {
     "name": "stdout",
     "output_type": "stream",
     "text": [
      "0\n",
      "1\n"
     ]
    }
   ],
   "source": [
    "g.bfs()"
   ]
  },
  {
   "cell_type": "code",
   "execution_count": 34,
   "id": "72841ced",
   "metadata": {
    "scrolled": true
   },
   "outputs": [
    {
     "ename": "AttributeError",
     "evalue": "'Graph' object has no attribute 'hasPath'",
     "output_type": "error",
     "traceback": [
      "\u001b[1;31m---------------------------------------------------------------------------\u001b[0m",
      "\u001b[1;31mAttributeError\u001b[0m                            Traceback (most recent call last)",
      "\u001b[1;32m<ipython-input-34-66acab7b3072>\u001b[0m in \u001b[0;36m<module>\u001b[1;34m\u001b[0m\n\u001b[1;32m----> 1\u001b[1;33m \u001b[0mg\u001b[0m\u001b[1;33m.\u001b[0m\u001b[0mhasPath\u001b[0m\u001b[1;33m(\u001b[0m\u001b[1;36m0\u001b[0m\u001b[1;33m,\u001b[0m\u001b[1;36m3\u001b[0m\u001b[1;33m)\u001b[0m\u001b[1;33m\u001b[0m\u001b[1;33m\u001b[0m\u001b[0m\n\u001b[0m",
      "\u001b[1;31mAttributeError\u001b[0m: 'Graph' object has no attribute 'hasPath'"
     ]
    }
   ],
   "source": [
    "g.hasPath(0,3)"
   ]
  },
  {
   "cell_type": "code",
   "execution_count": 24,
   "id": "bf679b2a",
   "metadata": {},
   "outputs": [],
   "source": [
    "import queue\n",
    "class Graph:\n",
    "    def __init__(self,nvertices):\n",
    "        self.nvertices=nvertices\n",
    "        self.adjMatrix=[[0 for i in range(nvertices)]for j in range(nvertices)]\n",
    "        \n",
    "    def addEdge(self,v1,v2):\n",
    "        self.adjMatrix[v1][v2]=1\n",
    "        self.adjMatrix[v2][v1]=1\n",
    "        return\n",
    "    def containsEdge(self,v1,v2):\n",
    "        if self.adjMatrix[v1][v2]>0:\n",
    "            \n",
    "            return True\n",
    "        return False\n",
    "    def removeEdge(self,v1,v2):\n",
    "        if self.containsEdge(v1,v2) is False:\n",
    "            return \n",
    "        self.adjMatrix[v1][v2]=0\n",
    "        self.adjMatrix[v2][v1]=0\n",
    "        return\n",
    "    def __dfshelper(self,sv,visited):\n",
    "        print(sv)\n",
    "        visited[sv]=True\n",
    "        for i in range(self.nvertices):\n",
    "            if self.adjMatrix[sv][i]>0 and visited[i]==False:\n",
    "                self.__dfshelper(i,visited)\n",
    "            \n",
    "        \n",
    "    def dfs(self):\n",
    "        visited = [False for i in range(self.nvertices)]\n",
    "        for i in range(self.nvertices):\n",
    "            if visited[i] is False:\n",
    "                self.__dfshelper(i,visited)\n",
    "        self.__dfshelper(0,visited)\n",
    "    def __bfsHelper(self,i,visited):\n",
    "        q=queue.Queue()\n",
    "        q.put(i)\n",
    "        visited[i]=True\n",
    "        while q.empty() is False:\n",
    "            u=q.get()\n",
    "            print(u)\n",
    "            \n",
    "            for i in range(self.nvertices):\n",
    "                if self.adjMatrix[u][i]>0 and visited[i] == False:\n",
    "                    q.put(i)\n",
    "                    visited[i]=True\n",
    "                    \n",
    "    def bfs(self):\n",
    "        \n",
    "        visited = [False for i in range(self.nvertices)]\n",
    "        for i in range (self.nvertices):\n",
    "            if visited[i] is False:\n",
    "                self.__bfsHelper(i,visited)\n",
    "        \n",
    "    def hasPath(self,v1,v2):\n",
    "        visited = [False for i in range (self.nvertices)]\n",
    "        ans= self.__hasPathHelper(v1,v2,visited)\n",
    "        if ans is None :\n",
    "            return False\n",
    "        return True\n",
    "    def __hasPathHelper(self,v1,v2,visited):  \n",
    "        if self.adjMatrix[v1][v2]>1:\n",
    "            return True\n",
    "        visited[v1]=True\n",
    "        for i in range (self.nvertices):\n",
    "            if self.adjMatrix[v1][i]>1 and visited[i]==False:\n",
    "                self.__hasPathHelper(i,v2,visited)\n",
    "        \n",
    "        \n",
    "    def __str__(self):\n",
    "        return (str(self.adjMatrix))\n",
    "        "
   ]
  },
  {
   "cell_type": "code",
   "execution_count": 25,
   "id": "346e4553",
   "metadata": {},
   "outputs": [],
   "source": [
    "g=Graph(6)"
   ]
  },
  {
   "cell_type": "code",
   "execution_count": 26,
   "id": "c393aa64",
   "metadata": {},
   "outputs": [],
   "source": [
    "g.addEdge(0,1)\n",
    "g.addEdge(0,3)\n",
    "g.addEdge(2,5)\n",
    "g.addEdge(2,4)\n",
    "g.addEdge(4,5)\n"
   ]
  },
  {
   "cell_type": "code",
   "execution_count": 27,
   "id": "cad03894",
   "metadata": {},
   "outputs": [
    {
     "name": "stdout",
     "output_type": "stream",
     "text": [
      "[[0, 1, 0, 1, 0, 0], [1, 0, 0, 0, 0, 0], [0, 0, 0, 0, 1, 1], [1, 0, 0, 0, 0, 0], [0, 0, 1, 0, 0, 1], [0, 0, 1, 0, 1, 0]]\n"
     ]
    }
   ],
   "source": [
    "print(g)"
   ]
  },
  {
   "cell_type": "code",
   "execution_count": 20,
   "id": "797049aa",
   "metadata": {},
   "outputs": [
    {
     "name": "stdout",
     "output_type": "stream",
     "text": [
      "0\n",
      "1\n",
      "3\n",
      "2\n",
      "4\n",
      "5\n",
      "0\n"
     ]
    }
   ],
   "source": [
    "g.dfs()"
   ]
  },
  {
   "cell_type": "code",
   "execution_count": 28,
   "id": "184a49e8",
   "metadata": {},
   "outputs": [
    {
     "name": "stdout",
     "output_type": "stream",
     "text": [
      "0\n",
      "1\n",
      "3\n",
      "2\n",
      "4\n",
      "5\n"
     ]
    }
   ],
   "source": [
    "g.bfs()"
   ]
  },
  {
   "cell_type": "code",
   "execution_count": 29,
   "id": "9a5d080d",
   "metadata": {},
   "outputs": [
    {
     "data": {
      "text/plain": [
       "False"
      ]
     },
     "execution_count": 29,
     "metadata": {},
     "output_type": "execute_result"
    }
   ],
   "source": [
    "g.hasPath(0,4)"
   ]
  },
  {
   "cell_type": "code",
   "execution_count": 30,
   "id": "3b06657b",
   "metadata": {},
   "outputs": [
    {
     "data": {
      "text/plain": [
       "False"
      ]
     },
     "execution_count": 30,
     "metadata": {},
     "output_type": "execute_result"
    }
   ],
   "source": [
    "g.hasPath(0,5)"
   ]
  },
  {
   "cell_type": "code",
   "execution_count": 31,
   "id": "5f9c94a9",
   "metadata": {},
   "outputs": [
    {
     "data": {
      "text/plain": [
       "False"
      ]
     },
     "execution_count": 31,
     "metadata": {},
     "output_type": "execute_result"
    }
   ],
   "source": [
    "g.hasPath(0,1)"
   ]
  }
 ],
 "metadata": {
  "kernelspec": {
   "display_name": "Python 3",
   "language": "python",
   "name": "python3"
  },
  "language_info": {
   "codemirror_mode": {
    "name": "ipython",
    "version": 3
   },
   "file_extension": ".py",
   "mimetype": "text/x-python",
   "name": "python",
   "nbconvert_exporter": "python",
   "pygments_lexer": "ipython3",
   "version": "3.8.8"
  }
 },
 "nbformat": 4,
 "nbformat_minor": 5
}
