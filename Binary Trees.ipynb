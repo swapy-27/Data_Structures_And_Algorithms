{
 "cells": [
  {
   "cell_type": "code",
   "execution_count": 9,
   "id": "c201a5a1",
   "metadata": {},
   "outputs": [],
   "source": [
    "class BinaryTreeNode:\n",
    "    def __init__(self,data):\n",
    "        self.data = data\n",
    "        self.left=None\n",
    "        self.right=None"
   ]
  },
  {
   "cell_type": "code",
   "execution_count": 22,
   "id": "8e4e9759",
   "metadata": {},
   "outputs": [],
   "source": [
    "def printTree(root):\n",
    "    if root==None:\n",
    "        return\n",
    "    print(root.data)\n",
    "    printTree(root.left)\n",
    "    printTree(root.right)"
   ]
  },
  {
   "cell_type": "code",
   "execution_count": 25,
   "id": "b110f23f",
   "metadata": {},
   "outputs": [],
   "source": [
    "def printTreeDetailed(root):\n",
    "    if(root==None):\n",
    "        return\n",
    "    print(root.data,end=':')\n",
    "    if root.left!=None:\n",
    "        print('L',root.left.data,end=',')\n",
    "    if root.right!=None:\n",
    "        print('R',root.right.data,end='' )\n",
    "    print()\n",
    "    printTreeDetailed(root.left)\n",
    "    printTreeDetailed(root.right)\n",
    "    "
   ]
  },
  {
   "cell_type": "code",
   "execution_count": 51,
   "id": "0ee9d781",
   "metadata": {},
   "outputs": [],
   "source": [
    "def numberOfNodes(root):\n",
    "    if root == None:\n",
    "        return 0 \n",
    "    leftCount=numberOfNodes(root.left)\n",
    "    rightCount=numberOfNodes(root.right)\n",
    "    return 1+leftCount+rightCount\n",
    "    "
   ]
  },
  {
   "cell_type": "code",
   "execution_count": 6,
   "id": "f27c6c31",
   "metadata": {},
   "outputs": [],
   "source": [
    "def treeInput():\n",
    "    rootData=int(input())\n",
    "    if rootData==-1:\n",
    "        return None\n",
    "    root=BinaryTreeNode(rootData)\n",
    "    leftTree=treeInput()\n",
    "    rightTree=treeInput()\n",
    "    root.left=leftTree\n",
    "    root.right=rightTree\n",
    "    return root"
   ]
  },
  {
   "cell_type": "code",
   "execution_count": 38,
   "id": "3070dc5b",
   "metadata": {},
   "outputs": [],
   "source": [
    "btn1=BinaryTreeNode(1);\n",
    "btn2=BinaryTreeNode(2);\n",
    "btn3=BinaryTreeNode(3);"
   ]
  },
  {
   "cell_type": "code",
   "execution_count": 39,
   "id": "e00c53ec",
   "metadata": {},
   "outputs": [],
   "source": [
    "btn1.left=btn2\n",
    "btn1.right=btn3"
   ]
  },
  {
   "cell_type": "code",
   "execution_count": 45,
   "id": "d3072c25",
   "metadata": {
    "scrolled": false
   },
   "outputs": [
    {
     "name": "stdout",
     "output_type": "stream",
     "text": [
      "1\n",
      "2\n",
      "3\n"
     ]
    }
   ],
   "source": [
    "printTree(btn1);"
   ]
  },
  {
   "cell_type": "code",
   "execution_count": 46,
   "id": "c13338e6",
   "metadata": {},
   "outputs": [
    {
     "name": "stdout",
     "output_type": "stream",
     "text": [
      "1:L 2,R 3,\n",
      "2\n",
      "3\n"
     ]
    }
   ],
   "source": [
    "printTreeDetailed(btn1)"
   ]
  },
  {
   "cell_type": "code",
   "execution_count": 6,
   "id": "f61c73be",
   "metadata": {},
   "outputs": [
    {
     "name": "stdout",
     "output_type": "stream",
     "text": [
      "1\n",
      "2\n",
      "3\n",
      "-1\n",
      "-1\n",
      "-1\n",
      "4\n",
      "5\n",
      "-1\n",
      "-1\n",
      "6\n",
      "-1\n",
      "-1\n"
     ]
    }
   ],
   "source": [
    "btn4=treeInput()\n"
   ]
  },
  {
   "cell_type": "code",
   "execution_count": 52,
   "id": "862319d7",
   "metadata": {
    "scrolled": true
   },
   "outputs": [
    {
     "data": {
      "text/plain": [
       "6"
      ]
     },
     "execution_count": 52,
     "metadata": {},
     "output_type": "execute_result"
    }
   ],
   "source": [
    "numberOfNodes(btn4)"
   ]
  },
  {
   "cell_type": "code",
   "execution_count": 7,
   "id": "84db5d67",
   "metadata": {},
   "outputs": [],
   "source": [
    "def LargestNode(root):\n",
    "    if root==None:\n",
    "        return -1\n",
    "    leftLargest = LargestNode(root.left)\n",
    "    rightLargest=LargestNode(root.right)\n",
    "    largest= max(leftLargest,rightLargest,root.data)\n",
    "    return largest"
   ]
  },
  {
   "cell_type": "code",
   "execution_count": 9,
   "id": "d6cd32a4",
   "metadata": {},
   "outputs": [
    {
     "data": {
      "text/plain": [
       "5"
      ]
     },
     "execution_count": 9,
     "metadata": {},
     "output_type": "execute_result"
    }
   ],
   "source": [
    "LargestNode(btn4)"
   ]
  },
  {
   "cell_type": "code",
   "execution_count": 7,
   "id": "303812e0",
   "metadata": {},
   "outputs": [],
   "source": [
    "def NumberofLeafNodes(root):\n",
    "    if root==None:\n",
    "        return 0 \n",
    "    if root.left == None and root.right ==None:\n",
    "        return 1\n",
    "    leftLeaf=NumberofLeafNodes(root.left)\n",
    "    rightLeaf =NumberofLeafNodes(root.right)\n",
    "    return leftLeaf+rightLeaf"
   ]
  },
  {
   "cell_type": "code",
   "execution_count": 9,
   "id": "97e9c96a",
   "metadata": {},
   "outputs": [
    {
     "data": {
      "text/plain": [
       "3"
      ]
     },
     "execution_count": 9,
     "metadata": {},
     "output_type": "execute_result"
    }
   ],
   "source": [
    "NumberofLeafNodes(btn4)\n"
   ]
  },
  {
   "cell_type": "code",
   "execution_count": 11,
   "id": "7ab311e5",
   "metadata": {},
   "outputs": [],
   "source": [
    "def printNodesAtDepthK(root,k):\n",
    "    if root==None:\n",
    "        return \n",
    "    if k==0:\n",
    "        print(root.data)\n",
    "        return\n",
    "    printNodesAtDepthK(root.left,k-1)\n",
    "    printNodesAtDepthK(root.right,k-1)"
   ]
  },
  {
   "cell_type": "code",
   "execution_count": 16,
   "id": "ddebc8b8",
   "metadata": {},
   "outputs": [
    {
     "name": "stdout",
     "output_type": "stream",
     "text": [
      "3\n",
      "5\n",
      "6\n"
     ]
    }
   ],
   "source": [
    "printNodesAtDepthK(btn4,2)"
   ]
  },
  {
   "cell_type": "code",
   "execution_count": 21,
   "id": "99926002",
   "metadata": {},
   "outputs": [],
   "source": [
    "def printNodesAtDepthKV2(root,k,d=0):\n",
    "    if root==None:\n",
    "        return\n",
    "    if k==d:\n",
    "        print(root.data)\n",
    "        return\n",
    "    printNodesAtDepthKV2(root.left,k,d+1)\n",
    "    printNodesAtDepthKV2(root.right,k,d+1)"
   ]
  },
  {
   "cell_type": "code",
   "execution_count": 23,
   "id": "5d0c6318",
   "metadata": {},
   "outputs": [
    {
     "name": "stdout",
     "output_type": "stream",
     "text": [
      "3\n",
      "5\n",
      "6\n"
     ]
    }
   ],
   "source": [
    "printNodesAtDepthKV2(btn4,2)"
   ]
  },
  {
   "cell_type": "code",
   "execution_count": 13,
   "id": "8e085c18",
   "metadata": {},
   "outputs": [],
   "source": [
    "def removeLeafNodes(root):\n",
    "    if root==None:\n",
    "        return None\n",
    "    if root.left==None and root.right==None:\n",
    "        return None\n",
    "    root.left=removeLeafNodes(root.left)\n",
    "    root.right=removeLeafNodes(root.right)\n",
    "    return root"
   ]
  },
  {
   "cell_type": "code",
   "execution_count": 21,
   "id": "e9d6f105",
   "metadata": {},
   "outputs": [
    {
     "name": "stdout",
     "output_type": "stream",
     "text": [
      "1\n",
      "2\n",
      "3\n",
      "-1\n",
      "-1\n",
      "4\n",
      "5\n",
      "-1\n",
      "-1\n",
      "6\n",
      "-1\n",
      "-1\n",
      "7\n",
      "-1\n",
      "-1\n"
     ]
    }
   ],
   "source": [
    "tree=treeInput()\n"
   ]
  },
  {
   "cell_type": "code",
   "execution_count": 23,
   "id": "a4adda82",
   "metadata": {
    "scrolled": true
   },
   "outputs": [
    {
     "name": "stdout",
     "output_type": "stream",
     "text": [
      "1\n",
      "2\n",
      "1:L 2,\n",
      "2\n"
     ]
    }
   ],
   "source": [
    "root=removeLeafNodes(tree)\n",
    "printTree(root)\n",
    "printTreeDetailed(root)"
   ]
  },
  {
   "cell_type": "code",
   "execution_count": 25,
   "id": "01a8af8f",
   "metadata": {},
   "outputs": [],
   "source": [
    "def height (root):\n",
    "    if root==None:\n",
    "        return 0\n",
    "    return 1+max(height(root.left),height(root.right))"
   ]
  },
  {
   "cell_type": "code",
   "execution_count": 27,
   "id": "22cce91a",
   "metadata": {},
   "outputs": [],
   "source": [
    "def isBalanced(root):\n",
    "    \n",
    "    if root is None:\n",
    "        return True\n",
    "    lh=height(root.left)\n",
    "    rh=height(root.right)\n",
    "    if lh-rh>1 or rh-lh >1:\n",
    "        return False\n",
    "    isLeft=isBalanced(root.left)\n",
    "    isRight=isBalanced(root.right)\n",
    "    if isRight and isLeft:\n",
    "        return True\n",
    "    else:\n",
    "        return False"
   ]
  },
  {
   "cell_type": "code",
   "execution_count": 29,
   "id": "896b0b91",
   "metadata": {},
   "outputs": [
    {
     "data": {
      "text/plain": [
       "True"
      ]
     },
     "execution_count": 29,
     "metadata": {},
     "output_type": "execute_result"
    }
   ],
   "source": [
    "isBalanced(tree)"
   ]
  },
  {
   "cell_type": "code",
   "execution_count": 31,
   "id": "c13f6082",
   "metadata": {},
   "outputs": [],
   "source": [
    "def getHeightandChechBalance(root):\n",
    "    if root==None:\n",
    "        return 0,True\n",
    "    lh,isLeft=getHeightandChechBalance(root.left)\n",
    "    rh,isRight=getHeightandChechBalance(root.right)\n",
    "    \n",
    "    h=1+max(lh,rh)\n",
    "    \n",
    "    if lh-rh>1 or rh-lh>1 :\n",
    "        return h,False\n",
    "    if isLeft and isRight:\n",
    "        return h,True\n",
    "    else:\n",
    "        return h,False"
   ]
  },
  {
   "cell_type": "code",
   "execution_count": 33,
   "id": "c2e94e2e",
   "metadata": {},
   "outputs": [
    {
     "data": {
      "text/plain": [
       "(2, True)"
      ]
     },
     "execution_count": 33,
     "metadata": {},
     "output_type": "execute_result"
    }
   ],
   "source": [
    "getHeightandChechBalance(tree)"
   ]
  },
  {
   "cell_type": "code",
   "execution_count": null,
   "id": "80282835",
   "metadata": {},
   "outputs": [
    {
     "name": "stdout",
     "output_type": "stream",
     "text": [
      "1\n",
      "2\n",
      "3\n"
     ]
    }
   ],
   "source": [
    "tree=treeInput()"
   ]
  },
  {
   "cell_type": "code",
   "execution_count": 2,
   "id": "b605483b",
   "metadata": {},
   "outputs": [],
   "source": [
    "#level Wise input"
   ]
  },
  {
   "cell_type": "code",
   "execution_count": 18,
   "id": "174bde38",
   "metadata": {},
   "outputs": [],
   "source": [
    "import queue\n",
    "def levelWiseInput():\n",
    "    q=queue.Queue()\n",
    "    rootData= int (input())\n",
    "    if rootData == -1:\n",
    "        return None\n",
    "    \n",
    "    root=BinaryTreeNode(rootData)\n",
    "    q.put(root)\n",
    "    \n",
    "    while not(q.empty()):\n",
    "        currNode= q.get()\n",
    "        print('Enter left child',currNode.data)\n",
    "        leftChildData= int ( input())\n",
    "        if (leftChildData!= -1):\n",
    "            leftChild= BinaryTreeNode(leftChildData)\n",
    "            currNode.left=leftChild\n",
    "            q.put(leftChild)\n",
    "        print('Enter right child',currNode.data)\n",
    "        rightChildData= int ( input())\n",
    "        if (rightChildData!= -1):\n",
    "            rightChild= BinaryTreeNode(rightChildData)\n",
    "            currNode.right=rightChild\n",
    "            q.put(rightChild)\n",
    "    return root"
   ]
  },
  {
   "cell_type": "code",
   "execution_count": null,
   "id": "07230da8",
   "metadata": {},
   "outputs": [],
   "source": [
    " root = levelWiseInput()\n"
   ]
  },
  {
   "cell_type": "code",
   "execution_count": 27,
   "id": "986ff890",
   "metadata": {
    "scrolled": true
   },
   "outputs": [
    {
     "name": "stdout",
     "output_type": "stream",
     "text": [
      "1:L 2,R 3\n",
      "2:L 4,R 5\n",
      "4:\n",
      "5:\n",
      "3:L 6,R 7\n",
      "6:\n",
      "7:\n"
     ]
    }
   ],
   "source": [
    "printTreeDetailed(root)"
   ]
  },
  {
   "cell_type": "code",
   "execution_count": null,
   "id": "977f04ec",
   "metadata": {},
   "outputs": [],
   "source": [
    "def printLevelWise(root):\n",
    "    "
   ]
  }
 ],
 "metadata": {
  "kernelspec": {
   "display_name": "Python 3",
   "language": "python",
   "name": "python3"
  },
  "language_info": {
   "codemirror_mode": {
    "name": "ipython",
    "version": 3
   },
   "file_extension": ".py",
   "mimetype": "text/x-python",
   "name": "python",
   "nbconvert_exporter": "python",
   "pygments_lexer": "ipython3",
   "version": "3.8.8"
  }
 },
 "nbformat": 4,
 "nbformat_minor": 5
}
