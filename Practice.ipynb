{
 "cells": [
  {
   "cell_type": "code",
   "execution_count": 1,
   "id": "96f851c6",
   "metadata": {},
   "outputs": [],
   "source": [
    "class mapNode:\n",
    "    def __init__(self,key,val):\n",
    "        self.key=key\n",
    "        self.val=val\n",
    "        self.next=None"
   ]
  },
  {
   "cell_type": "code",
   "execution_count": 24,
   "id": "19e73949",
   "metadata": {},
   "outputs": [],
   "source": [
    "class Map :\n",
    "    def __init__(self):\n",
    "        self.bucketSize=10\n",
    "        self.buckets=[None for i in range(self.bucketSize)]\n",
    "        self.count=0\n",
    "        \n",
    "    def size(self):\n",
    "        return self.count\n",
    "    \n",
    "    def getIndex(self,key):\n",
    "        return abs(hash(key)%self.bucketSize)\n",
    "    \n",
    "    def insert(self,key,value):\n",
    "        idx= self.getIndex(key)\n",
    "        head= self.buckets[idx]\n",
    "        \n",
    "        #either we have to update if key is there\n",
    "        while head is not None:\n",
    "            if(head.key == key):\n",
    "                head.val=value\n",
    "            head= head.next\n",
    "            \n",
    "        if (head==None):\n",
    "            newnode= mapNode(key,value)\n",
    "            head= self.buckets[idx]\n",
    "            newnode.next=head\n",
    "            self.buckets[idx]=newnode\n",
    "            self.count+=1\n",
    "        \n",
    "    def remove(self,key):\n",
    "        idx=self.getIndex(key)\n",
    "        head=self.buckets[idx]\n",
    "        curr=None\n",
    "        prev=None\n",
    "        while head is not None:\n",
    "            curr=head\n",
    "            if head.key == key:\n",
    "                if prev== None:\n",
    "                    self.buckets[index]=head.next\n",
    "                    curr.next=None\n",
    "                else:\n",
    "                    prev.next=head.next\n",
    "                    curr.next=None\n",
    "                self.count-=1\n",
    "            prev=head\n",
    "            head=head.next\n",
    "        return None\n",
    "        \n",
    "    def getValue(self,key):\n",
    "        idx= self.getIndex(key)\n",
    "        head=self.buckets[idx]\n",
    "        while head is not None:\n",
    "            if head.key==key:\n",
    "                return head.val\n",
    "            head=head.next\n",
    "        return None\n",
    "    "
   ]
  },
  {
   "cell_type": "code",
   "execution_count": 25,
   "id": "8e063bfe",
   "metadata": {},
   "outputs": [],
   "source": [
    "m=Map()"
   ]
  },
  {
   "cell_type": "code",
   "execution_count": 26,
   "id": "77fa3064",
   "metadata": {},
   "outputs": [],
   "source": [
    "m.insert(5,200)"
   ]
  },
  {
   "cell_type": "code",
   "execution_count": 27,
   "id": "a9baca30",
   "metadata": {},
   "outputs": [],
   "source": [
    "m.insert('abc',100)"
   ]
  },
  {
   "cell_type": "code",
   "execution_count": 20,
   "id": "ad41e224",
   "metadata": {},
   "outputs": [
    {
     "data": {
      "text/plain": [
       "100"
      ]
     },
     "execution_count": 20,
     "metadata": {},
     "output_type": "execute_result"
    }
   ],
   "source": [
    "m.getValue('abc')"
   ]
  },
  {
   "cell_type": "code",
   "execution_count": 22,
   "id": "e8f0a1d0",
   "metadata": {},
   "outputs": [
    {
     "data": {
      "text/plain": [
       "200"
      ]
     },
     "execution_count": 22,
     "metadata": {},
     "output_type": "execute_result"
    }
   ],
   "source": [
    "m.getValue(5)"
   ]
  },
  {
   "cell_type": "code",
   "execution_count": 29,
   "id": "5ecaee41",
   "metadata": {},
   "outputs": [
    {
     "data": {
      "text/plain": [
       "2"
      ]
     },
     "execution_count": 29,
     "metadata": {},
     "output_type": "execute_result"
    }
   ],
   "source": [
    "m.size()"
   ]
  },
  {
   "cell_type": "code",
   "execution_count": 2,
   "id": "79f2315f",
   "metadata": {},
   "outputs": [
    {
     "name": "stdout",
     "output_type": "stream",
     "text": [
      "4\n",
      "4 4 4 4\n",
      "0\n",
      "4\n"
     ]
    }
   ],
   "source": [
    "def printPairDiffK(l, k):\n",
    "    d={}\n",
    "    p=0\n",
    "    for i in l:\n",
    "        d[i]= d.get(i,0)+1\n",
    "    \n",
    "    for j in l :\n",
    "        val= j-k\n",
    "        if d.get(val,0)!=0:\n",
    "            p+=1\n",
    "            d[j]-=1\n",
    "    return p\n",
    "n=int(input())\n",
    "l=list(int(i) for i in input().strip().split(' '))\n",
    "k=int(input())\n",
    "print(printPairDiffK(l, k))"
   ]
  },
  {
   "cell_type": "code",
   "execution_count": 13,
   "id": "2c3d81c4",
   "metadata": {},
   "outputs": [
    {
     "name": "stdout",
     "output_type": "stream",
     "text": [
      "13\n",
      "2 12 9 16 10 5 3 20 25 11 1 8 6 \n"
     ]
    },
    {
     "ename": "ValueError",
     "evalue": "invalid literal for int() with base 10: ''",
     "output_type": "error",
     "traceback": [
      "\u001b[1;31m---------------------------------------------------------------------------\u001b[0m",
      "\u001b[1;31mValueError\u001b[0m                                Traceback (most recent call last)",
      "\u001b[1;32m<ipython-input-13-ad06c4d9582c>\u001b[0m in \u001b[0;36m<module>\u001b[1;34m\u001b[0m\n\u001b[0;32m     47\u001b[0m \u001b[1;33m\u001b[0m\u001b[0m\n\u001b[0;32m     48\u001b[0m \u001b[1;31m# Main\u001b[0m\u001b[1;33m\u001b[0m\u001b[1;33m\u001b[0m\u001b[1;33m\u001b[0m\u001b[0m\n\u001b[1;32m---> 49\u001b[1;33m \u001b[0marr\u001b[0m\u001b[1;33m,\u001b[0m\u001b[0mn\u001b[0m\u001b[1;33m=\u001b[0m\u001b[0mtakeInput\u001b[0m\u001b[1;33m(\u001b[0m\u001b[1;33m)\u001b[0m\u001b[1;33m\u001b[0m\u001b[1;33m\u001b[0m\u001b[0m\n\u001b[0m\u001b[0;32m     50\u001b[0m \u001b[0mans\u001b[0m \u001b[1;33m=\u001b[0m \u001b[0mlongestConsecutiveSubsequence\u001b[0m\u001b[1;33m(\u001b[0m\u001b[0marr\u001b[0m\u001b[1;33m,\u001b[0m\u001b[0mn\u001b[0m\u001b[1;33m)\u001b[0m\u001b[1;33m\u001b[0m\u001b[1;33m\u001b[0m\u001b[0m\n\u001b[0;32m     51\u001b[0m \u001b[1;31m# This ans array contains two numbers, ie, start and end of longest sequence respectively\u001b[0m\u001b[1;33m\u001b[0m\u001b[1;33m\u001b[0m\u001b[1;33m\u001b[0m\u001b[0m\n",
      "\u001b[1;32m<ipython-input-13-ad06c4d9582c>\u001b[0m in \u001b[0;36mtakeInput\u001b[1;34m()\u001b[0m\n\u001b[0;32m     42\u001b[0m     \u001b[1;32mif\u001b[0m \u001b[0mn\u001b[0m\u001b[1;33m==\u001b[0m\u001b[1;36m0\u001b[0m\u001b[1;33m:\u001b[0m\u001b[1;33m\u001b[0m\u001b[1;33m\u001b[0m\u001b[0m\n\u001b[0;32m     43\u001b[0m         \u001b[1;32mreturn\u001b[0m \u001b[0mlist\u001b[0m\u001b[1;33m(\u001b[0m\u001b[1;33m)\u001b[0m\u001b[1;33m,\u001b[0m\u001b[1;36m0\u001b[0m\u001b[1;33m\u001b[0m\u001b[1;33m\u001b[0m\u001b[0m\n\u001b[1;32m---> 44\u001b[1;33m     \u001b[0marr\u001b[0m \u001b[1;33m=\u001b[0m \u001b[1;33m[\u001b[0m\u001b[0mint\u001b[0m\u001b[1;33m(\u001b[0m\u001b[0mx\u001b[0m\u001b[1;33m)\u001b[0m \u001b[1;32mfor\u001b[0m \u001b[0mx\u001b[0m \u001b[1;32min\u001b[0m \u001b[0minput\u001b[0m\u001b[1;33m(\u001b[0m\u001b[1;33m)\u001b[0m\u001b[1;33m.\u001b[0m\u001b[0msplit\u001b[0m\u001b[1;33m(\u001b[0m\u001b[1;34m' '\u001b[0m\u001b[1;33m)\u001b[0m\u001b[1;33m]\u001b[0m\u001b[1;33m\u001b[0m\u001b[1;33m\u001b[0m\u001b[0m\n\u001b[0m\u001b[0;32m     45\u001b[0m     \u001b[1;32mreturn\u001b[0m \u001b[0marr\u001b[0m\u001b[1;33m,\u001b[0m\u001b[0mn\u001b[0m\u001b[1;33m\u001b[0m\u001b[1;33m\u001b[0m\u001b[0m\n\u001b[0;32m     46\u001b[0m \u001b[1;33m\u001b[0m\u001b[0m\n",
      "\u001b[1;32m<ipython-input-13-ad06c4d9582c>\u001b[0m in \u001b[0;36m<listcomp>\u001b[1;34m(.0)\u001b[0m\n\u001b[0;32m     42\u001b[0m     \u001b[1;32mif\u001b[0m \u001b[0mn\u001b[0m\u001b[1;33m==\u001b[0m\u001b[1;36m0\u001b[0m\u001b[1;33m:\u001b[0m\u001b[1;33m\u001b[0m\u001b[1;33m\u001b[0m\u001b[0m\n\u001b[0;32m     43\u001b[0m         \u001b[1;32mreturn\u001b[0m \u001b[0mlist\u001b[0m\u001b[1;33m(\u001b[0m\u001b[1;33m)\u001b[0m\u001b[1;33m,\u001b[0m\u001b[1;36m0\u001b[0m\u001b[1;33m\u001b[0m\u001b[1;33m\u001b[0m\u001b[0m\n\u001b[1;32m---> 44\u001b[1;33m     \u001b[0marr\u001b[0m \u001b[1;33m=\u001b[0m \u001b[1;33m[\u001b[0m\u001b[0mint\u001b[0m\u001b[1;33m(\u001b[0m\u001b[0mx\u001b[0m\u001b[1;33m)\u001b[0m \u001b[1;32mfor\u001b[0m \u001b[0mx\u001b[0m \u001b[1;32min\u001b[0m \u001b[0minput\u001b[0m\u001b[1;33m(\u001b[0m\u001b[1;33m)\u001b[0m\u001b[1;33m.\u001b[0m\u001b[0msplit\u001b[0m\u001b[1;33m(\u001b[0m\u001b[1;34m' '\u001b[0m\u001b[1;33m)\u001b[0m\u001b[1;33m]\u001b[0m\u001b[1;33m\u001b[0m\u001b[1;33m\u001b[0m\u001b[0m\n\u001b[0m\u001b[0;32m     45\u001b[0m     \u001b[1;32mreturn\u001b[0m \u001b[0marr\u001b[0m\u001b[1;33m,\u001b[0m\u001b[0mn\u001b[0m\u001b[1;33m\u001b[0m\u001b[1;33m\u001b[0m\u001b[0m\n\u001b[0;32m     46\u001b[0m \u001b[1;33m\u001b[0m\u001b[0m\n",
      "\u001b[1;31mValueError\u001b[0m: invalid literal for int() with base 10: ''"
     ]
    }
   ],
   "source": [
    "from sys import stdin\n",
    "\n",
    "def longestConsecutiveSubsequence(arr,n):\n",
    "    d={}\n",
    "    for i in arr:\n",
    "        d[i]=True\n",
    "    \n",
    "    mx=0\n",
    "    st=0\n",
    "    for j in arr:\n",
    "        val=j\n",
    "        newst=j\n",
    "        length=1\n",
    "        if d[j]==True:\n",
    "            d[j]=False\n",
    "            while ():\n",
    "                val+=1\n",
    "                if(d.get(val)!=None):\n",
    "                    d[val]=False\n",
    "                    length+=1\n",
    "                else:\n",
    "                    break\n",
    "            val=j    \n",
    "            while ():\n",
    "                val-=1\n",
    "                if(d.get(val)!=None):\n",
    "                    d[val]=False\n",
    "                    newst=val\n",
    "                    length+=1\n",
    "                else:\n",
    "                    break\n",
    "    \t\t\n",
    "        if(mx<length):\n",
    "            mx=length\n",
    "            st=newst\n",
    "    \n",
    "    return [st,st+mx-1]\n",
    "\n",
    "def takeInput():\n",
    "    #To take fast I/O\n",
    "    n=int(input())\n",
    "    if n==0:\n",
    "        return list(),0\n",
    "    arr = [int(x) for x in input().split(' ')] \n",
    "    return arr,n\n",
    "\n",
    "    \n",
    "# Main \n",
    "arr,n=takeInput()\n",
    "ans = longestConsecutiveSubsequence(arr,n) \n",
    "# This ans array contains two numbers, ie, start and end of longest sequence respectively\n",
    "print(*ans)"
   ]
  }
 ],
 "metadata": {
  "kernelspec": {
   "display_name": "Python 3",
   "language": "python",
   "name": "python3"
  },
  "language_info": {
   "codemirror_mode": {
    "name": "ipython",
    "version": 3
   },
   "file_extension": ".py",
   "mimetype": "text/x-python",
   "name": "python",
   "nbconvert_exporter": "python",
   "pygments_lexer": "ipython3",
   "version": "3.8.8"
  }
 },
 "nbformat": 4,
 "nbformat_minor": 5
}
