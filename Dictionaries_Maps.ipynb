{
 "cells": [
  {
   "cell_type": "code",
   "execution_count": 2,
   "id": "5bbf266e",
   "metadata": {},
   "outputs": [],
   "source": [
    "a={}"
   ]
  },
  {
   "cell_type": "code",
   "execution_count": 3,
   "id": "3c0fed28",
   "metadata": {},
   "outputs": [
    {
     "data": {
      "text/plain": [
       "dict"
      ]
     },
     "execution_count": 3,
     "metadata": {},
     "output_type": "execute_result"
    }
   ],
   "source": [
    "type(a)"
   ]
  },
  {
   "cell_type": "code",
   "execution_count": 6,
   "id": "9d611a32",
   "metadata": {},
   "outputs": [],
   "source": [
    "a={\"v1\":1,2:\"the\",\"li\":[1,2,3]}"
   ]
  },
  {
   "cell_type": "code",
   "execution_count": 7,
   "id": "4db9afa6",
   "metadata": {},
   "outputs": [
    {
     "name": "stdout",
     "output_type": "stream",
     "text": [
      "{'v1': 1, 2: 'the', 'li': [1, 2, 3]}\n"
     ]
    }
   ],
   "source": [
    "print(a)"
   ]
  },
  {
   "cell_type": "code",
   "execution_count": 8,
   "id": "595aac24",
   "metadata": {},
   "outputs": [],
   "source": [
    "b=a.copy()"
   ]
  },
  {
   "cell_type": "code",
   "execution_count": 9,
   "id": "504888e9",
   "metadata": {},
   "outputs": [
    {
     "data": {
      "text/plain": [
       "{'v1': 1, 2: 'the', 'li': [1, 2, 3]}"
      ]
     },
     "execution_count": 9,
     "metadata": {},
     "output_type": "execute_result"
    }
   ],
   "source": [
    "b"
   ]
  },
  {
   "cell_type": "code",
   "execution_count": 11,
   "id": "f23ec975",
   "metadata": {},
   "outputs": [],
   "source": [
    "d= dict.fromkeys([1,2,3],10)"
   ]
  },
  {
   "cell_type": "code",
   "execution_count": 12,
   "id": "d766a43e",
   "metadata": {},
   "outputs": [
    {
     "data": {
      "text/plain": [
       "{1: 10, 2: 10, 3: 10}"
      ]
     },
     "execution_count": 12,
     "metadata": {},
     "output_type": "execute_result"
    }
   ],
   "source": [
    "d\n"
   ]
  },
  {
   "cell_type": "code",
   "execution_count": 14,
   "id": "1060960f",
   "metadata": {},
   "outputs": [],
   "source": [
    "c= dict([(\"a\",1),(\"b\",2),(\"c\",3)])"
   ]
  },
  {
   "cell_type": "code",
   "execution_count": 15,
   "id": "2b4a05da",
   "metadata": {},
   "outputs": [
    {
     "data": {
      "text/plain": [
       "{'a': 1, 'b': 2, 'c': 3}"
      ]
     },
     "execution_count": 15,
     "metadata": {},
     "output_type": "execute_result"
    }
   ],
   "source": [
    "c"
   ]
  },
  {
   "cell_type": "code",
   "execution_count": 16,
   "id": "619c57b1",
   "metadata": {},
   "outputs": [
    {
     "data": {
      "text/plain": [
       "{'v1': 1, 2: 'the', 'li': [1, 2, 3]}"
      ]
     },
     "execution_count": 16,
     "metadata": {},
     "output_type": "execute_result"
    }
   ],
   "source": [
    "a"
   ]
  },
  {
   "cell_type": "code",
   "execution_count": 18,
   "id": "be94faee",
   "metadata": {},
   "outputs": [
    {
     "data": {
      "text/plain": [
       "1"
      ]
     },
     "execution_count": 18,
     "metadata": {},
     "output_type": "execute_result"
    }
   ],
   "source": [
    "a['v1']"
   ]
  },
  {
   "cell_type": "code",
   "execution_count": 19,
   "id": "e8be6737",
   "metadata": {},
   "outputs": [
    {
     "data": {
      "text/plain": [
       "1"
      ]
     },
     "execution_count": 19,
     "metadata": {},
     "output_type": "execute_result"
    }
   ],
   "source": [
    "a.get('v1')"
   ]
  },
  {
   "cell_type": "code",
   "execution_count": 20,
   "id": "0c220feb",
   "metadata": {},
   "outputs": [],
   "source": [
    "a.get('n')"
   ]
  },
  {
   "cell_type": "code",
   "execution_count": 21,
   "id": "7b64474c",
   "metadata": {},
   "outputs": [
    {
     "name": "stdout",
     "output_type": "stream",
     "text": [
      "None\n"
     ]
    }
   ],
   "source": [
    "print(a.get('n'))"
   ]
  },
  {
   "cell_type": "code",
   "execution_count": 22,
   "id": "2d5ac72c",
   "metadata": {},
   "outputs": [
    {
     "data": {
      "text/plain": [
       "0"
      ]
     },
     "execution_count": 22,
     "metadata": {},
     "output_type": "execute_result"
    }
   ],
   "source": [
    "a.get('n',0)"
   ]
  },
  {
   "cell_type": "code",
   "execution_count": 23,
   "id": "38d99b16",
   "metadata": {},
   "outputs": [
    {
     "name": "stdout",
     "output_type": "stream",
     "text": [
      "v1 1\n",
      "2 the\n",
      "li [1, 2, 3]\n"
     ]
    }
   ],
   "source": [
    "for i in a:\n",
    "    print(i,a[i])"
   ]
  },
  {
   "cell_type": "code",
   "execution_count": 24,
   "id": "a5f8142e",
   "metadata": {},
   "outputs": [
    {
     "data": {
      "text/plain": [
       "True"
      ]
     },
     "execution_count": 24,
     "metadata": {},
     "output_type": "execute_result"
    }
   ],
   "source": [
    "'v1' in a"
   ]
  },
  {
   "cell_type": "code",
   "execution_count": 25,
   "id": "c5af4e1b",
   "metadata": {},
   "outputs": [
    {
     "data": {
      "text/plain": [
       "dict_items([('v1', 1), (2, 'the'), ('li', [1, 2, 3])])"
      ]
     },
     "execution_count": 25,
     "metadata": {},
     "output_type": "execute_result"
    }
   ],
   "source": [
    "a.items()"
   ]
  },
  {
   "cell_type": "code",
   "execution_count": 26,
   "id": "11a6103b",
   "metadata": {},
   "outputs": [
    {
     "data": {
      "text/plain": [
       "dict_values([1, 'the', [1, 2, 3]])"
      ]
     },
     "execution_count": 26,
     "metadata": {},
     "output_type": "execute_result"
    }
   ],
   "source": [
    "a.values()"
   ]
  },
  {
   "cell_type": "code",
   "execution_count": 27,
   "id": "8e0e587a",
   "metadata": {},
   "outputs": [
    {
     "data": {
      "text/plain": [
       "dict_keys(['v1', 2, 'li'])"
      ]
     },
     "execution_count": 27,
     "metadata": {},
     "output_type": "execute_result"
    }
   ],
   "source": [
    "a.keys()"
   ]
  },
  {
   "cell_type": "code",
   "execution_count": 28,
   "id": "a5f86592",
   "metadata": {},
   "outputs": [
    {
     "data": {
      "text/plain": [
       "True"
      ]
     },
     "execution_count": 28,
     "metadata": {},
     "output_type": "execute_result"
    }
   ],
   "source": [
    "2 in a"
   ]
  },
  {
   "cell_type": "code",
   "execution_count": 46,
   "id": "8e2de895",
   "metadata": {},
   "outputs": [],
   "source": [
    "z = {\"a\":1,\"dic\":{'b':2,'c':3},'li':[1,2,3],'t':(1,2,3)}"
   ]
  },
  {
   "cell_type": "code",
   "execution_count": 47,
   "id": "f1ce617b",
   "metadata": {},
   "outputs": [
    {
     "data": {
      "text/plain": [
       "{'a': 1, 'dic': {'b': 2, 'c': 3}, 'li': [1, 2, 3], 't': (1, 2, 3)}"
      ]
     },
     "execution_count": 47,
     "metadata": {},
     "output_type": "execute_result"
    }
   ],
   "source": [
    "z"
   ]
  },
  {
   "cell_type": "code",
   "execution_count": 35,
   "id": "0cad0ae7",
   "metadata": {},
   "outputs": [],
   "source": [
    "z.update(a)"
   ]
  },
  {
   "cell_type": "code",
   "execution_count": 36,
   "id": "4eaa44a4",
   "metadata": {},
   "outputs": [
    {
     "data": {
      "text/plain": [
       "{'a': 1,\n",
       " 'dic': {'b': 2, 'c': 3},\n",
       " 'li': [1, 2, 3],\n",
       " 't': (1, 2, 3),\n",
       " 'v1': 1,\n",
       " 2: 'the'}"
      ]
     },
     "execution_count": 36,
     "metadata": {},
     "output_type": "execute_result"
    }
   ],
   "source": [
    "z"
   ]
  },
  {
   "cell_type": "code",
   "execution_count": 38,
   "id": "91dafee9",
   "metadata": {},
   "outputs": [
    {
     "data": {
      "text/plain": [
       "'the'"
      ]
     },
     "execution_count": 38,
     "metadata": {},
     "output_type": "execute_result"
    }
   ],
   "source": [
    "z.pop(2)"
   ]
  },
  {
   "cell_type": "code",
   "execution_count": 40,
   "id": "d5b56b99",
   "metadata": {},
   "outputs": [],
   "source": [
    "z.clear()"
   ]
  },
  {
   "cell_type": "code",
   "execution_count": 41,
   "id": "b500a0d9",
   "metadata": {},
   "outputs": [
    {
     "data": {
      "text/plain": [
       "{}"
      ]
     },
     "execution_count": 41,
     "metadata": {},
     "output_type": "execute_result"
    }
   ],
   "source": [
    "z"
   ]
  },
  {
   "cell_type": "code",
   "execution_count": 48,
   "id": "343bc1cd",
   "metadata": {},
   "outputs": [],
   "source": [
    "del z['a']"
   ]
  },
  {
   "cell_type": "code",
   "execution_count": 49,
   "id": "482780f9",
   "metadata": {},
   "outputs": [
    {
     "data": {
      "text/plain": [
       "{'dic': {'b': 2, 'c': 3}, 'li': [1, 2, 3], 't': (1, 2, 3)}"
      ]
     },
     "execution_count": 49,
     "metadata": {},
     "output_type": "execute_result"
    }
   ],
   "source": [
    "z"
   ]
  },
  {
   "cell_type": "markdown",
   "id": "b063f740",
   "metadata": {},
   "source": [
    "## implementing own Hashmap"
   ]
  },
  {
   "cell_type": "code",
   "execution_count": 21,
   "id": "c76a51a6",
   "metadata": {},
   "outputs": [],
   "source": [
    "class MapNode:\n",
    "    def __init__(self,key,value):\n",
    "        self.key=key\n",
    "        self.value=value\n",
    "        self.next=None\n"
   ]
  },
  {
   "cell_type": "code",
   "execution_count": 71,
   "id": "f94551e6",
   "metadata": {},
   "outputs": [],
   "source": [
    "class Map:\n",
    "    def __init__(self):\n",
    "        self.bucketSize=10\n",
    "        self.buckets=[None for i in range (self.bucketSize)]\n",
    "        self.count=0\n",
    "        \n",
    "    def size(self):\n",
    "        return self.count\n",
    "        \n",
    "    def getBucketIndex(self,hc):\n",
    "        return (abs(hc)%(self.bucketSize))\n",
    "    def getValue(self,key):\n",
    "        hc=hash(key)\n",
    "        index=self.getBucketIndex(hc)\n",
    "        head= self.buckets[index]\n",
    "        \n",
    "        while head is not None:\n",
    "            if key==head.key:\n",
    "                return head.value\n",
    "            head=head.next\n",
    "        return None\n",
    "    \n",
    "    def rehash(self):\n",
    "        temp= self.buckets\n",
    "        self.buckets= [None for i in range (2*self.bucketSize)]\n",
    "        self.bucketSize=2*self.bucketSize\n",
    "        \n",
    "        for head in temp:\n",
    "            while head is not None:\n",
    "                self.insert(head.key,head.value)\n",
    "                head=head.next\n",
    "                \n",
    "    def loadFactor(self):\n",
    "        return self.count/self.bucketSize\n",
    "    \n",
    "    def insert(self,key,value):\n",
    "        hc= hash(key)\n",
    "        index=self.getBucketIndex(hc)\n",
    "        head=self.buckets[index]\n",
    "       \n",
    "        while head is not None:\n",
    "            if head.key == key:\n",
    "                head.value = value \n",
    "                return\n",
    "            head= head.next\n",
    "        head=self.buckets[index]\n",
    "        newNode = MapNode(key,value)\n",
    "        newNode.next = head\n",
    "        self.buckets[index]=newNode\n",
    "        self.count+=1\n",
    "        loadFactor = self.count/self.bucketSize\n",
    "        if loadFactor>=0.7:\n",
    "            self.rehash()\n",
    "    def remove(self,key):\n",
    "        hc= hash(key)\n",
    "        index=self.getBucketIndex(hc)\n",
    "        head=self.buckets[index]\n",
    "        \n",
    "        prev =None\n",
    "        \n",
    "        while head is not None:\n",
    "            if head.key == key:\n",
    "                if prev== None:\n",
    "                    self.buckets[index]=head.next\n",
    "                else:\n",
    "                    prev.next=head.next\n",
    "                self.count-=1\n",
    "            prev=head\n",
    "            head=head.next\n",
    "        return None"
   ]
  },
  {
   "cell_type": "code",
   "execution_count": 72,
   "id": "cb088fce",
   "metadata": {
    "scrolled": true
   },
   "outputs": [
    {
     "name": "stdout",
     "output_type": "stream",
     "text": [
      "1\n",
      "2\n"
     ]
    }
   ],
   "source": [
    "m= Map()\n",
    "m.insert('Swap',2)\n",
    "print(m.size())\n",
    "m.insert('Rohan',7)\n",
    "print(m.size())"
   ]
  },
  {
   "cell_type": "code",
   "execution_count": 43,
   "id": "ef4b8e89",
   "metadata": {},
   "outputs": [
    {
     "data": {
      "text/plain": [
       "2"
      ]
     },
     "execution_count": 43,
     "metadata": {},
     "output_type": "execute_result"
    }
   ],
   "source": [
    "m.getValue('Swap')"
   ]
  },
  {
   "cell_type": "code",
   "execution_count": 45,
   "id": "44246c8a",
   "metadata": {},
   "outputs": [
    {
     "data": {
      "text/plain": [
       "7"
      ]
     },
     "execution_count": 45,
     "metadata": {},
     "output_type": "execute_result"
    }
   ],
   "source": [
    "m.getValue('Rohan')"
   ]
  },
  {
   "cell_type": "code",
   "execution_count": 57,
   "id": "a6e3ec58",
   "metadata": {},
   "outputs": [],
   "source": [
    "m.remove('Swap')"
   ]
  },
  {
   "cell_type": "code",
   "execution_count": 58,
   "id": "abc31c13",
   "metadata": {},
   "outputs": [
    {
     "name": "stdout",
     "output_type": "stream",
     "text": [
      "None\n"
     ]
    }
   ],
   "source": [
    "print(m.getValue('Swap'))"
   ]
  },
  {
   "cell_type": "code",
   "execution_count": 59,
   "id": "ca4ed11d",
   "metadata": {
    "scrolled": true
   },
   "outputs": [
    {
     "data": {
      "text/plain": [
       "1"
      ]
     },
     "execution_count": 59,
     "metadata": {},
     "output_type": "execute_result"
    }
   ],
   "source": [
    "m.size()"
   ]
  },
  {
   "cell_type": "code",
   "execution_count": 73,
   "id": "0e1e6c00",
   "metadata": {
    "scrolled": true
   },
   "outputs": [
    {
     "name": "stdout",
     "output_type": "stream",
     "text": [
      "0.3\n",
      "0.4\n",
      "0.5\n",
      "0.6\n",
      "0.525\n",
      "0.55\n",
      "0.575\n",
      "0.6\n",
      "0.625\n",
      "0.65\n",
      "0.675\n",
      "0.525\n",
      "0.5375\n",
      "0.55\n",
      "0.5625\n",
      "0.575\n",
      "0.5875\n",
      "0.6\n",
      "0.6125\n",
      "0.625\n"
     ]
    }
   ],
   "source": [
    "for i in range(20):\n",
    "    m.insert('abc'+str(i),i+1)\n",
    "    print(m.loadFactor())"
   ]
  },
  {
   "cell_type": "code",
   "execution_count": 74,
   "id": "1575e57f",
   "metadata": {},
   "outputs": [
    {
     "name": "stdout",
     "output_type": "stream",
     "text": [
      "abc0 1\n",
      "abc1 2\n",
      "abc2 3\n",
      "abc3 4\n",
      "abc4 5\n",
      "abc5 6\n",
      "abc6 7\n",
      "abc7 8\n",
      "abc8 9\n",
      "abc9 10\n",
      "abc10 11\n",
      "abc11 12\n",
      "abc12 13\n",
      "abc13 14\n",
      "abc14 15\n",
      "abc15 16\n",
      "abc16 17\n",
      "abc17 18\n",
      "abc18 19\n",
      "abc19 20\n"
     ]
    }
   ],
   "source": [
    "for i in range(20):\n",
    "    print('abc'+str(i),m.getValue('abc'+str(i)))"
   ]
  }
 ],
 "metadata": {
  "kernelspec": {
   "display_name": "Python 3",
   "language": "python",
   "name": "python3"
  },
  "language_info": {
   "codemirror_mode": {
    "name": "ipython",
    "version": 3
   },
   "file_extension": ".py",
   "mimetype": "text/x-python",
   "name": "python",
   "nbconvert_exporter": "python",
   "pygments_lexer": "ipython3",
   "version": "3.8.8"
  }
 },
 "nbformat": 4,
 "nbformat_minor": 5
}
