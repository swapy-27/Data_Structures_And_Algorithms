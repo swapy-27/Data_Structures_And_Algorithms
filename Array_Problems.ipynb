{
 "cells": [
  {
   "cell_type": "markdown",
   "id": "df28deb8",
   "metadata": {},
   "source": [
    "### Pascal Triangle"
   ]
  },
  {
   "cell_type": "markdown",
   "id": "65426eb1",
   "metadata": {},
   "source": [
    "Basically last and first ele gonna be one and rest ele is going to be some of idx-1 and idx ele in prev row "
   ]
  },
  {
   "cell_type": "code",
   "execution_count": 4,
   "id": "c7d5d4d5",
   "metadata": {},
   "outputs": [],
   "source": [
    "    def generate(self, numRows) :\n",
    "        \n",
    "        out_arr = []\n",
    "        prev_arr=[]\n",
    "        for i in range (0,numRows):\n",
    "            curr_arr=[]\n",
    "            \n",
    "            \n",
    "            for j in range (0,i+1):\n",
    "                if(j==0 or j==i):\n",
    "                    curr_arr.append(1)\n",
    "                else:\n",
    "                    curr_arr.append(prev_arr[j]+prev_arr[j-1])\n",
    "                \n",
    "                prev_arr=curr_arr  \n",
    "            out_arr.append(curr_arr)\n",
    "            \n",
    "        return out_arr\n",
    "                \n",
    "            "
   ]
  },
  {
   "cell_type": "markdown",
   "id": "a63b8ddb",
   "metadata": {},
   "source": [
    "### Kandane's Algo"
   ]
  },
  {
   "cell_type": "markdown",
   "id": "4b1bbfc6",
   "metadata": {},
   "source": [
    "concept is that if any part of subarray becomes negative it is useless it can't contribute in maximum array further so make it zero"
   ]
  },
  {
   "cell_type": "code",
   "execution_count": 3,
   "id": "d78b6d15",
   "metadata": {},
   "outputs": [],
   "source": [
    "def maxSubArray(self, nums) :\n",
    "        mx_sum=-999999999\n",
    "        curr_sum=0\n",
    "        \n",
    "        for i in nums:\n",
    "            curr_sum+=i\n",
    "                \n",
    "            mx_sum = max(curr_sum,mx_sum)\n",
    "            \n",
    "            \n",
    "            if(curr_sum<0):\n",
    "                curr_sum=0\n",
    "            \n",
    "                \n",
    "        return mx_sum\n",
    "        "
   ]
  },
  {
   "cell_type": "code",
   "execution_count": null,
   "id": "009084c4",
   "metadata": {},
   "outputs": [],
   "source": []
  }
 ],
 "metadata": {
  "kernelspec": {
   "display_name": "Python 3",
   "language": "python",
   "name": "python3"
  },
  "language_info": {
   "codemirror_mode": {
    "name": "ipython",
    "version": 3
   },
   "file_extension": ".py",
   "mimetype": "text/x-python",
   "name": "python",
   "nbconvert_exporter": "python",
   "pygments_lexer": "ipython3",
   "version": "3.8.8"
  }
 },
 "nbformat": 4,
 "nbformat_minor": 5
}
