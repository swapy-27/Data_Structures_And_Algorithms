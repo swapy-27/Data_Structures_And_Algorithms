{
 "cells": [
  {
   "cell_type": "code",
   "execution_count": 8,
   "id": "8cc469c2",
   "metadata": {},
   "outputs": [],
   "source": [
    "#selection Sort"
   ]
  },
  {
   "cell_type": "code",
   "execution_count": 18,
   "id": "d05ebeab",
   "metadata": {},
   "outputs": [],
   "source": [
    "def selectionSort(arr):\n",
    "    n=len(arr)\n",
    "    for i in range (0,n):\n",
    "        minIdx=i\n",
    "        for j in range (i+1,n):\n",
    "            if(arr[j]<arr[minIdx]):\n",
    "                minIdx=j\n",
    "        arr[minIdx],arr[i]=arr[i],arr[minIdx]\n",
    "            \n",
    "    return arr"
   ]
  },
  {
   "cell_type": "code",
   "execution_count": 19,
   "id": "fd17eba9",
   "metadata": {},
   "outputs": [
    {
     "data": {
      "text/plain": [
       "[1, 2, 3, 5, 7, 9, 10]"
      ]
     },
     "execution_count": 19,
     "metadata": {},
     "output_type": "execute_result"
    }
   ],
   "source": [
    "selectionSort([10,2,5,1,3,7,9])"
   ]
  },
  {
   "cell_type": "code",
   "execution_count": 20,
   "id": "76137cf5",
   "metadata": {},
   "outputs": [
    {
     "data": {
      "text/plain": [
       "[-10, -1, 0, 10, 13, 70]"
      ]
     },
     "execution_count": 20,
     "metadata": {},
     "output_type": "execute_result"
    }
   ],
   "source": [
    "selectionSort([10,-1,0,13,70,-10])"
   ]
  },
  {
   "cell_type": "code",
   "execution_count": 25,
   "id": "4fa4a898",
   "metadata": {},
   "outputs": [],
   "source": [
    "#insertion Sort"
   ]
  },
  {
   "cell_type": "code",
   "execution_count": 41,
   "id": "a03f66f9",
   "metadata": {},
   "outputs": [],
   "source": [
    "def insertionSort(arr):\n",
    "    \n",
    "    \n",
    "    i=1\n",
    "    while i<len(arr):\n",
    "        val=arr[i]\n",
    "        \n",
    "        j=i-1\n",
    "        \n",
    "        while j>=0 and arr[j]>val:\n",
    "            arr[j+1],arr[j]=arr[j],arr[j+1]\n",
    "            j-=1\n",
    "        arr[j+1]=val\n",
    "        i+=1\n",
    "    return arr"
   ]
  },
  {
   "cell_type": "code",
   "execution_count": 42,
   "id": "f0113b70",
   "metadata": {},
   "outputs": [
    {
     "data": {
      "text/plain": [
       "[1, 2, 3, 5, 7, 9, 10]"
      ]
     },
     "execution_count": 42,
     "metadata": {},
     "output_type": "execute_result"
    }
   ],
   "source": [
    "insertionSort([10,2,5,1,3,7,9])"
   ]
  },
  {
   "cell_type": "code",
   "execution_count": 5,
   "id": "6485b0f1",
   "metadata": {},
   "outputs": [],
   "source": [
    "#merge sort"
   ]
  },
  {
   "cell_type": "code",
   "execution_count": 6,
   "id": "db6420a6",
   "metadata": {},
   "outputs": [],
   "source": [
    "#QuickSort"
   ]
  },
  {
   "cell_type": "code",
   "execution_count": 21,
   "id": "d8f2e1b5",
   "metadata": {},
   "outputs": [],
   "source": [
    "#BubbleSort"
   ]
  },
  {
   "cell_type": "code",
   "execution_count": 26,
   "id": "67599bfe",
   "metadata": {},
   "outputs": [],
   "source": [
    "def bubbleSort(arr):\n",
    "    i=0\n",
    "    while i<len(arr)-1:\n",
    "        \n",
    "        for j in range (0,len(arr)-1-i):\n",
    "                if(arr[j]>arr[j+1]):\n",
    "                    arr[j],arr[j+1]=arr[j+1],arr[j]\n",
    "                    \n",
    "        i+=1\n",
    "        \n",
    "    return arr\n",
    "    \n",
    "   "
   ]
  },
  {
   "cell_type": "code",
   "execution_count": 27,
   "id": "e90b4468",
   "metadata": {
    "scrolled": true
   },
   "outputs": [
    {
     "data": {
      "text/plain": [
       "[1, 2, 4, 5, 9, 10, 11]"
      ]
     },
     "execution_count": 27,
     "metadata": {},
     "output_type": "execute_result"
    }
   ],
   "source": [
    "bubbleSort([10,4,11,2,5,1,9])"
   ]
  },
  {
   "cell_type": "code",
   "execution_count": 29,
   "id": "fe5914ea",
   "metadata": {},
   "outputs": [
    {
     "data": {
      "text/plain": [
       "[-10, -1, 0, 10, 13, 70]"
      ]
     },
     "execution_count": 29,
     "metadata": {},
     "output_type": "execute_result"
    }
   ],
   "source": [
    "bubbleSort([10,-1,0,13,70,-10])"
   ]
  },
  {
   "cell_type": "code",
   "execution_count": null,
   "id": "e317e6fe",
   "metadata": {},
   "outputs": [],
   "source": []
  }
 ],
 "metadata": {
  "kernelspec": {
   "display_name": "Python 3",
   "language": "python",
   "name": "python3"
  },
  "language_info": {
   "codemirror_mode": {
    "name": "ipython",
    "version": 3
   },
   "file_extension": ".py",
   "mimetype": "text/x-python",
   "name": "python",
   "nbconvert_exporter": "python",
   "pygments_lexer": "ipython3",
   "version": "3.8.8"
  }
 },
 "nbformat": 4,
 "nbformat_minor": 5
}
