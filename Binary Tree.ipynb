{
 "cells": [
  {
   "cell_type": "code",
   "execution_count": 4,
   "id": "24407eaf",
   "metadata": {},
   "outputs": [],
   "source": [
    "class Node:\n",
    "    def __init__(self,val):\n",
    "        self.val=val\n",
    "        self.left=None\n",
    "        self.right=None\n",
    "        "
   ]
  },
  {
   "cell_type": "code",
   "execution_count": 11,
   "id": "51335800",
   "metadata": {},
   "outputs": [],
   "source": [
    "def takeInput():\n",
    "    print('Enter root data')\n",
    "    rootData = int(input())\n",
    "    \n",
    "    if rootData == -1 :\n",
    "        return None\n",
    "    root = Node(rootData)\n",
    "    root.left = takeInput()\n",
    "    root.right=takeInput()\n",
    "    \n",
    "    return root\n",
    "    "
   ]
  },
  {
   "cell_type": "code",
   "execution_count": 13,
   "id": "68317b37",
   "metadata": {},
   "outputs": [
    {
     "name": "stdout",
     "output_type": "stream",
     "text": [
      "Enter root data\n",
      "5\n",
      "Enter root data\n",
      "1\n",
      "Enter root data\n",
      "3\n",
      "Enter root data\n",
      "-1\n",
      "Enter root data\n",
      "-1\n",
      "Enter root data\n",
      "-1\n",
      "Enter root data\n",
      "4\n",
      "Enter root data\n",
      "1\n",
      "Enter root data\n",
      "-1\n",
      "Enter root data\n",
      "-1\n",
      "Enter root data\n",
      "5\n",
      "Enter root data\n",
      "-1\n",
      "Enter root data\n",
      "-1\n"
     ]
    }
   ],
   "source": [
    "root=takeInput()"
   ]
  },
  {
   "cell_type": "code",
   "execution_count": 22,
   "id": "52454ef5",
   "metadata": {},
   "outputs": [],
   "source": [
    "def printTree(root):\n",
    "    if root is None:\n",
    "        return \n",
    "    print(root.val,end=';')\n",
    "    if root.left is not None:\n",
    "        print('L:'+ str(root.left.val),end=' ')\n",
    "        \n",
    "    if root.right is not None:\n",
    "        print('R:'+ str(root.right.val),end=' ')\n",
    "        \n",
    "    print()\n",
    "    printTree(root.left)\n",
    "    printTree(root.right)"
   ]
  },
  {
   "cell_type": "code",
   "execution_count": 23,
   "id": "86cc6b63",
   "metadata": {
    "scrolled": true
   },
   "outputs": [
    {
     "name": "stdout",
     "output_type": "stream",
     "text": [
      "5;L:1 R:4 \n",
      "1;L:3 \n",
      "3;\n",
      "4;L:1 R:5 \n",
      "1;\n",
      "5;\n"
     ]
    }
   ],
   "source": [
    "printTree(root)"
   ]
  },
  {
   "cell_type": "code",
   "execution_count": 32,
   "id": "8f3da6f6",
   "metadata": {},
   "outputs": [],
   "source": [
    "def sumOfNodes(root):\n",
    "    if root is None:\n",
    "        return 0\n",
    "    leftSum = sumOfNodes(root.left)\n",
    "    rightSum = sumOfNodes(root.right)\n",
    "    return  root.val + leftSum +rightSum\n"
   ]
  },
  {
   "cell_type": "code",
   "execution_count": 34,
   "id": "d53945d3",
   "metadata": {},
   "outputs": [
    {
     "data": {
      "text/plain": [
       "19"
      ]
     },
     "execution_count": 34,
     "metadata": {},
     "output_type": "execute_result"
    }
   ],
   "source": [
    "sumOfNodes(root)"
   ]
  },
  {
   "cell_type": "code",
   "execution_count": 36,
   "id": "4c31a43b",
   "metadata": {},
   "outputs": [],
   "source": [
    "def LargestNode(root):\n",
    "    \n",
    "    if root is None:\n",
    "        return 0 \n",
    "    left=LargestNode(root.left)\n",
    "    right=LargestNode(root.right)\n",
    "    \n",
    "    return max(root.val,left,right)"
   ]
  },
  {
   "cell_type": "code",
   "execution_count": 38,
   "id": "a164fbfa",
   "metadata": {},
   "outputs": [
    {
     "data": {
      "text/plain": [
       "5"
      ]
     },
     "execution_count": 38,
     "metadata": {},
     "output_type": "execute_result"
    }
   ],
   "source": [
    "LargestNode(root)"
   ]
  },
  {
   "cell_type": "code",
   "execution_count": 40,
   "id": "668fd97b",
   "metadata": {},
   "outputs": [],
   "source": [
    "def HeightOfTree(root):\n",
    "    if root is None:\n",
    "        return 0 \n",
    "    left=HeightOfTree(root.left)\n",
    "    right=HeightOfTree(root.right)\n",
    "    \n",
    "    return 1+max(left,right)\n",
    "    \n",
    "    "
   ]
  },
  {
   "cell_type": "code",
   "execution_count": 41,
   "id": "83edb317",
   "metadata": {},
   "outputs": [
    {
     "data": {
      "text/plain": [
       "3"
      ]
     },
     "execution_count": 41,
     "metadata": {},
     "output_type": "execute_result"
    }
   ],
   "source": [
    "HeightOfTree(root)"
   ]
  },
  {
   "cell_type": "code",
   "execution_count": 42,
   "id": "0cfb17c2",
   "metadata": {},
   "outputs": [],
   "source": [
    "def NumberofLeafNodes(root):\n",
    "    if root==None:\n",
    "        return 0 \n",
    "    if root.left == None and root.right ==None:\n",
    "        return 1\n",
    "    leftLeaf=NumberofLeafNodes(root.left)\n",
    "    rightLeaf =NumberofLeafNodes(root.right)\n",
    "    return leftLeaf+rightLeaf\n",
    "    "
   ]
  },
  {
   "cell_type": "code",
   "execution_count": 44,
   "id": "1f6a8fd7",
   "metadata": {},
   "outputs": [
    {
     "data": {
      "text/plain": [
       "3"
      ]
     },
     "execution_count": 44,
     "metadata": {},
     "output_type": "execute_result"
    }
   ],
   "source": [
    "NumberofLeafNodes(root)"
   ]
  },
  {
   "cell_type": "code",
   "execution_count": null,
   "id": "6bd0df64",
   "metadata": {},
   "outputs": [],
   "source": []
  }
 ],
 "metadata": {
  "kernelspec": {
   "display_name": "Python 3",
   "language": "python",
   "name": "python3"
  },
  "language_info": {
   "codemirror_mode": {
    "name": "ipython",
    "version": 3
   },
   "file_extension": ".py",
   "mimetype": "text/x-python",
   "name": "python",
   "nbconvert_exporter": "python",
   "pygments_lexer": "ipython3",
   "version": "3.8.8"
  }
 },
 "nbformat": 4,
 "nbformat_minor": 5
}
