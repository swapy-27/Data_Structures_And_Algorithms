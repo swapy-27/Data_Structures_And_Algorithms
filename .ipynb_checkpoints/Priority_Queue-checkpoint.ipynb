{
 "cells": [
  {
   "cell_type": "markdown",
   "id": "f9c660c1",
   "metadata": {},
   "source": [
    "### Complete Binary tree"
   ]
  },
  {
   "cell_type": "markdown",
   "id": "d8dd61b1",
   "metadata": {},
   "source": [
    "### ==>Height of CBT"
   ]
  },
  {
   "cell_type": "code",
   "execution_count": 2,
   "id": "eaa6c495",
   "metadata": {},
   "outputs": [],
   "source": [
    "class priorityQueueNode:\n",
    "    def __init__ (self,val,priority):\n",
    "        self.value=val\n",
    "        self.priority=priority"
   ]
  },
  {
   "cell_type": "code",
   "execution_count": 84,
   "id": "b00436eb",
   "metadata": {},
   "outputs": [],
   "source": [
    "class PriorityQueue:\n",
    "    def __init__(self):\n",
    "        self.pq=[]\n",
    "        \n",
    "    def getSize(self):\n",
    "        return len(self.pq)\n",
    "        \n",
    "    def isEmpty(self):\n",
    "        return self.getSize==0\n",
    "        \n",
    "    def getMin(self):\n",
    "        if self.isEmpty()==False:\n",
    "            return None\n",
    "        return self.pq[0].value\n",
    "    \n",
    "    def __percolateUp(self):\n",
    "        childIdx=self.getSize()-1\n",
    "        while():\n",
    "            parentIndex = (childIdx-1)//2\n",
    "            if(self.pq[childIdx].priority<self.pq[parentIndex].priority):\n",
    "                self.pq[childIdx],self.pq[parentIndex]=self.pq[parentIndex],self.pq[childIdx]\n",
    "                childIdx=parentIndex\n",
    "            else:\n",
    "                break\n",
    "    \n",
    "    def insert(self,value,priority):\n",
    "        pqNode = priorityQueueNode(value,priority)\n",
    "        self.pq.append(pqNode)\n",
    "        self.__percolateUp()\n",
    "    \n",
    "    def _perculateDown(self):\n",
    "        parentIdx=0\n",
    "        leftchildIdx=(2*parentIdx)+1\n",
    "        rightchildIdx=(2*parentIdx)+2\n",
    "        while(leftchildIdx<self.getSize()):\n",
    "            minIndex=parentIdx\n",
    "            if (self.pq[leftchildIdx].priority<self.pq[minIndex].priority):\n",
    "                minIndex=leftchildIdx\n",
    "            if (rightchildIdx<self.getSize() and self.pq[rightchildIdx].priority<self.pq[minIndex].priority):\n",
    "                minIndex=rightchildIdx\n",
    "            if minIndex==parentIdx:\n",
    "                break\n",
    "            self.pq[minIndex],self.pq[parentIdx]=self.pq[parentIdx],self.pq[minIndex]\n",
    "            parentIdx=minIndex\n",
    "            leftchildIdx=(2*parentIdx)+1\n",
    "            rightchildIdx=(2*parentIdx)+2\n",
    "        \n",
    "    def removeMin(self):\n",
    "        minimum = self.pq[0].value\n",
    "        self.pq[0] = self.pq[self.getSize()-1]\n",
    "        self.pq.pop()\n",
    "        self._perculateDown()\n",
    "        return minimum\n",
    "            \n",
    "    def printValue(self):\n",
    "        for i in range (0,self.getSize()):\n",
    "            print(self.pq[i].value,self.pq[i].priority)\n",
    "            \n",
    "    "
   ]
  },
  {
   "cell_type": "code",
   "execution_count": 85,
   "id": "05d37540",
   "metadata": {},
   "outputs": [],
   "source": [
    "p= PriorityQueue()"
   ]
  },
  {
   "cell_type": "code",
   "execution_count": 86,
   "id": "53be5bf7",
   "metadata": {},
   "outputs": [],
   "source": [
    "for i in range (1,11):\n",
    "    p.insert(i+10,i)"
   ]
  },
  {
   "cell_type": "code",
   "execution_count": 87,
   "id": "efca1549",
   "metadata": {
    "scrolled": true
   },
   "outputs": [
    {
     "data": {
      "text/plain": [
       "10"
      ]
     },
     "execution_count": 87,
     "metadata": {},
     "output_type": "execute_result"
    }
   ],
   "source": [
    "p.getSize()"
   ]
  },
  {
   "cell_type": "code",
   "execution_count": 88,
   "id": "3fbec7e6",
   "metadata": {
    "scrolled": true
   },
   "outputs": [
    {
     "name": "stdout",
     "output_type": "stream",
     "text": [
      "9\n",
      "11\n"
     ]
    }
   ],
   "source": [
    "\n",
    "    print(p.removeMin())"
   ]
  },
  {
   "cell_type": "code",
   "execution_count": 89,
   "id": "f46efc83",
   "metadata": {
    "scrolled": true
   },
   "outputs": [
    {
     "name": "stdout",
     "output_type": "stream",
     "text": [
      "12 2\n",
      "14 4\n",
      "13 3\n",
      "18 8\n",
      "15 5\n",
      "16 6\n",
      "17 7\n",
      "20 10\n",
      "19 9\n"
     ]
    }
   ],
   "source": [
    "p.printValue()"
   ]
  },
  {
   "cell_type": "code",
   "execution_count": 20,
   "id": "03d9333b",
   "metadata": {},
   "outputs": [],
   "source": [
    "class maxPriorityQueue():\n",
    "    def __init__(self):\n",
    "        self.pq=[]\n",
    "        \n",
    "    def getSize(self):\n",
    "        return len(self.pq)\n",
    "    \n",
    "    def isEmpty(self):\n",
    "        return self.getSize()==0\n",
    "\n",
    "    def getMax(self):\n",
    "        if self.isEmpty()==False:\n",
    "            return self.pq[0].value\n",
    "        return None\n",
    "      \n",
    "    def _perculateUp(self):\n",
    "        childIdx=self.getSize()-1\n",
    "        while(childIdx>=0):\n",
    "            parentIndex=(childIdx-1)//2\n",
    "            if(self.pq[parentIndex].priority<self.pq[childIdx].priority):\n",
    "                self.pq[parentIndex],self.pq[childIdx]=self.pq[childIdx],self.pq[parentIndex]\n",
    "                childIdx=parentIndex\n",
    "            else:\n",
    "                break\n",
    "                \n",
    "    def _perculateDown(self):\n",
    "        parentIdx=0\n",
    "        leftchildIdx=(2*parentIdx)+1\n",
    "        rightchildIdx=(2*parentIdx)+2\n",
    "        while(leftchildIdx<self.getSize()):\n",
    "            minIndex=parentIdx\n",
    "            if (self.pq[leftchildIdx].priority>self.pq[minIndex].priority):\n",
    "                minIndex=leftchildIdx\n",
    "            if (rightchildIdx<self.getSize() and self.pq[rightchildIdx].priority>self.pq[minIndex].priority):\n",
    "                minIndex=rightchildIdx\n",
    "            if minIndex==parentIdx:\n",
    "                break\n",
    "            self.pq[minIndex],self.pq[parentIdx]=self.pq[parentIdx],self.pq[minIndex]\n",
    "            parentIdx=minIndex\n",
    "            leftchildIdx=(2*parentIdx)+1\n",
    "            rightchildIdx=(2*parentIdx)+2\n",
    "        \n",
    "        \n",
    "                \n",
    "                \n",
    "    def insert(self,ele,priority):\n",
    "        newnode = priorityQueueNode(ele,priority)\n",
    "        self.pq.append(newnode)\n",
    "        self._perculateUp()\n",
    "        \n",
    "        \n",
    "    def removeMax(self):\n",
    "        maximum = self.pq[0].value\n",
    "        self.pq[0]=self.pq[-1]\n",
    "        self._perculateDown()\n",
    "        return maximum\n",
    "    def printValue(self):\n",
    "        for i in range (0,self.getSize()):\n",
    "            print(self.pq[i].value,self.pq[i].priority)"
   ]
  },
  {
   "cell_type": "code",
   "execution_count": 21,
   "id": "b332d1ef",
   "metadata": {},
   "outputs": [],
   "source": [
    "p=maxPriorityQueue()"
   ]
  },
  {
   "cell_type": "code",
   "execution_count": 22,
   "id": "037411c9",
   "metadata": {},
   "outputs": [],
   "source": [
    "for i in range (1,11):\n",
    "    p.insert(i+10,i)"
   ]
  },
  {
   "cell_type": "code",
   "execution_count": 23,
   "id": "6dbeafea",
   "metadata": {},
   "outputs": [
    {
     "data": {
      "text/plain": [
       "10"
      ]
     },
     "execution_count": 23,
     "metadata": {},
     "output_type": "execute_result"
    }
   ],
   "source": [
    "p.getSize()"
   ]
  },
  {
   "cell_type": "code",
   "execution_count": 24,
   "id": "d9e977d3",
   "metadata": {
    "scrolled": false
   },
   "outputs": [
    {
     "name": "stdout",
     "output_type": "stream",
     "text": [
      "11 1\n",
      "12 2\n",
      "13 3\n",
      "14 4\n",
      "15 5\n",
      "16 6\n",
      "17 7\n",
      "18 8\n",
      "19 9\n",
      "20 10\n"
     ]
    }
   ],
   "source": [
    "p.printValue()"
   ]
  },
  {
   "cell_type": "code",
   "execution_count": 27,
   "id": "c712326f",
   "metadata": {},
   "outputs": [
    {
     "name": "stdout",
     "output_type": "stream",
     "text": [
      "20\n"
     ]
    }
   ],
   "source": [
    "print(p.removeMax())"
   ]
  },
  {
   "cell_type": "code",
   "execution_count": 29,
   "id": "01d2faa8",
   "metadata": {
    "scrolled": false
   },
   "outputs": [
    {
     "name": "stdout",
     "output_type": "stream",
     "text": [
      "20\n",
      "20\n",
      "20\n",
      "20\n",
      "20\n",
      "20\n",
      "20\n",
      "20\n",
      "20\n",
      "20\n"
     ]
    }
   ],
   "source": [
    "for i in range (p.getSize()):\n",
    "    print(p.removeMax())"
   ]
  },
  {
   "cell_type": "markdown",
   "id": "54329936",
   "metadata": {},
   "source": [
    "###  heap Sort Method --> 1\n"
   ]
  },
  {
   "cell_type": "code",
   "execution_count": 14,
   "id": "513a6c51",
   "metadata": {},
   "outputs": [],
   "source": [
    "\n",
    "def BuildHeap(arr):\n",
    "    for i in range(1,len(arr)):\n",
    "        curr_idx=i\n",
    "        parent_idx=(curr_idx-1)//2\n",
    "        while(parent_idx>=0 and curr_idx>=0 and arr[curr_idx]<arr[parent_idx]):\n",
    "            arr[curr_idx],arr[parent_idx]=arr[parent_idx],arr[curr_idx]\n",
    "            curr_idx=parent_idx\n",
    "            parent_idx=(curr_idx-1)//2\n",
    "    \n",
    "            "
   ]
  },
  {
   "cell_type": "code",
   "execution_count": 33,
   "id": "c2397fab",
   "metadata": {},
   "outputs": [],
   "source": [
    "def perculateDown(pq,n):\n",
    "    parentIdx=0\n",
    "    leftchildIdx=(2*parentIdx)+1\n",
    "    rightchildIdx=(2*parentIdx)+2\n",
    "    while(leftchildIdx<n):\n",
    "        minIndex=parentIdx\n",
    "        if (pq[leftchildIdx]<pq[minIndex]):\n",
    "            minIndex=leftchildIdx\n",
    "        if (rightchildIdx<n and pq[rightchildIdx]<pq[minIndex]):\n",
    "            minIndex=rightchildIdx\n",
    "        if minIndex==parentIdx:\n",
    "            break\n",
    "        pq[minIndex],pq[parentIdx]=pq[parentIdx],pq[minIndex]\n",
    "        parentIdx=minIndex\n",
    "        leftchildIdx=(2*parentIdx)+1\n",
    "        rightchildIdx=(2*parentIdx)+2"
   ]
  },
  {
   "cell_type": "code",
   "execution_count": 39,
   "id": "941edd1c",
   "metadata": {},
   "outputs": [],
   "source": [
    "def HeapSort(arr):\n",
    "    i=0\n",
    "    n=len(arr)-1\n",
    "    while (n>=0):\n",
    "        arr[i],arr[n]=arr[n],arr[i]\n",
    "        perculateDown(arr,n)\n",
    "        n-=1"
   ]
  },
  {
   "cell_type": "code",
   "execution_count": 45,
   "id": "d6ec3b53",
   "metadata": {},
   "outputs": [],
   "source": [
    "arr=[7,3,5,8,2,6]"
   ]
  },
  {
   "cell_type": "code",
   "execution_count": 46,
   "id": "8c223032",
   "metadata": {},
   "outputs": [
    {
     "name": "stdout",
     "output_type": "stream",
     "text": [
      "[2, 3, 5, 8, 7, 6]\n"
     ]
    }
   ],
   "source": [
    "BuildHeap(arr)\n",
    "print(arr)"
   ]
  },
  {
   "cell_type": "code",
   "execution_count": 47,
   "id": "55c995ab",
   "metadata": {},
   "outputs": [],
   "source": [
    "HeapSort(arr)"
   ]
  },
  {
   "cell_type": "code",
   "execution_count": 48,
   "id": "96e007a5",
   "metadata": {},
   "outputs": [
    {
     "name": "stdout",
     "output_type": "stream",
     "text": [
      "[8, 7, 6, 5, 3, 2]\n"
     ]
    }
   ],
   "source": [
    "print(arr)\n",
    "#just reverse the array to get the answer or do it using max heap concept\n"
   ]
  },
  {
   "cell_type": "markdown",
   "id": "19d068eb",
   "metadata": {},
   "source": [
    "\n",
    "## Method==> 2"
   ]
  },
  {
   "cell_type": "code",
   "execution_count": null,
   "id": "40d57620",
   "metadata": {},
   "outputs": [],
   "source": []
  },
  {
   "cell_type": "markdown",
   "id": "ddc5538b",
   "metadata": {},
   "source": [
    "### inbuilt min and max Heap"
   ]
  },
  {
   "cell_type": "code",
   "execution_count": 62,
   "id": "ec805ab9",
   "metadata": {},
   "outputs": [],
   "source": [
    "import heapq\n",
    "\n",
    "li=[1,5,4,8,7,9,11]\n",
    "heapq.heapify(li)"
   ]
  },
  {
   "cell_type": "code",
   "execution_count": 63,
   "id": "45e47dda",
   "metadata": {
    "scrolled": true
   },
   "outputs": [
    {
     "name": "stdout",
     "output_type": "stream",
     "text": [
      "[1, 5, 4, 8, 7, 9, 11]\n"
     ]
    }
   ],
   "source": [
    "print(li)"
   ]
  },
  {
   "cell_type": "code",
   "execution_count": 64,
   "id": "55cf3eb6",
   "metadata": {},
   "outputs": [
    {
     "name": "stdout",
     "output_type": "stream",
     "text": [
      "[1, 2, 4, 5, 7, 9, 11, 8]\n"
     ]
    }
   ],
   "source": [
    "heapq.heappush(li,2)\n",
    "print(li)"
   ]
  },
  {
   "cell_type": "code",
   "execution_count": 65,
   "id": "fb6ef229",
   "metadata": {},
   "outputs": [
    {
     "name": "stdout",
     "output_type": "stream",
     "text": [
      "1\n"
     ]
    }
   ],
   "source": [
    "print(heapq.heappop(li))"
   ]
  },
  {
   "cell_type": "code",
   "execution_count": 66,
   "id": "f9c36923",
   "metadata": {},
   "outputs": [
    {
     "name": "stdout",
     "output_type": "stream",
     "text": [
      "[2, 5, 4, 8, 7, 9, 11]\n"
     ]
    }
   ],
   "source": [
    "print(li)"
   ]
  },
  {
   "cell_type": "code",
   "execution_count": 67,
   "id": "cee587b9",
   "metadata": {
    "scrolled": true
   },
   "outputs": [
    {
     "data": {
      "text/plain": [
       "2"
      ]
     },
     "execution_count": 67,
     "metadata": {},
     "output_type": "execute_result"
    }
   ],
   "source": [
    "heapq.heapreplace(li,10)"
   ]
  },
  {
   "cell_type": "code",
   "execution_count": 69,
   "id": "fee68ff2",
   "metadata": {},
   "outputs": [
    {
     "name": "stdout",
     "output_type": "stream",
     "text": [
      "[4, 5, 9, 8, 7, 10, 11]\n"
     ]
    }
   ],
   "source": [
    "print(li)"
   ]
  },
  {
   "cell_type": "code",
   "execution_count": 71,
   "id": "3a12e0c3",
   "metadata": {},
   "outputs": [],
   "source": [
    "### inbuilt max heap"
   ]
  },
  {
   "cell_type": "code",
   "execution_count": 86,
   "id": "001110a9",
   "metadata": {},
   "outputs": [],
   "source": [
    "import heapq\n",
    "li=[1,5,4,8,7,9,11]\n",
    "\n",
    "heapq._heapify_max(li)"
   ]
  },
  {
   "cell_type": "code",
   "execution_count": 80,
   "id": "354937cc",
   "metadata": {},
   "outputs": [
    {
     "name": "stdout",
     "output_type": "stream",
     "text": [
      "[11, 8, 9, 5, 7, 1, 4]\n"
     ]
    }
   ],
   "source": [
    "print(li)"
   ]
  },
  {
   "cell_type": "code",
   "execution_count": 81,
   "id": "dbdefab2",
   "metadata": {},
   "outputs": [
    {
     "name": "stdout",
     "output_type": "stream",
     "text": [
      "11\n"
     ]
    }
   ],
   "source": [
    "print(heapq._heappop_max(li))"
   ]
  },
  {
   "cell_type": "code",
   "execution_count": 82,
   "id": "f0ed356e",
   "metadata": {},
   "outputs": [
    {
     "name": "stdout",
     "output_type": "stream",
     "text": [
      "[8, 7, 4, 5, 0, 1]\n"
     ]
    }
   ],
   "source": [
    "heapq._heapreplace_max(li,0)\n",
    "print(li)"
   ]
  },
  {
   "cell_type": "code",
   "execution_count": 87,
   "id": "ab91cb92",
   "metadata": {},
   "outputs": [],
   "source": [
    "li.append(6)\n",
    "heapq._siftdown_max(li,0,len(li)-1)"
   ]
  },
  {
   "cell_type": "code",
   "execution_count": 88,
   "id": "77ef3462",
   "metadata": {
    "scrolled": false
   },
   "outputs": [
    {
     "name": "stdout",
     "output_type": "stream",
     "text": [
      "[11, 8, 9, 6, 7, 1, 4, 5]\n"
     ]
    }
   ],
   "source": [
    "print(li)"
   ]
  },
  {
   "cell_type": "code",
   "execution_count": 2,
   "id": "4345431f",
   "metadata": {},
   "outputs": [],
   "source": [
    "### kth smallest elements"
   ]
  },
  {
   "cell_type": "code",
   "execution_count": 18,
   "id": "85f7299f",
   "metadata": {
    "scrolled": false
   },
   "outputs": [],
   "source": [
    "import heapq\n",
    "def kSmallest(lst, k):\n",
    "    arr=lst[0:k]\n",
    "    \n",
    "    heapq._heapify_max(arr)\n",
    "    \n",
    "    for i in range (k,n):\n",
    "        val=lst[i]\n",
    "        \n",
    "        if arr[0]>val:\n",
    "            heapq._heappop_max(arr)\n",
    "            arr.append(val)\n",
    "            heapq._siftdown_max(arr,0,len(arr)-1)\n",
    "            \n",
    "        elif arr[0]==val:\n",
    "            arr.append(val)\n",
    "            heapq._siftdown_max(arr,0,len(arr)-1)\n",
    "            \n",
    "            \n",
    "    return arr\n",
    "            \n"
   ]
  },
  {
   "cell_type": "code",
   "execution_count": 19,
   "id": "4dd7c106",
   "metadata": {},
   "outputs": [
    {
     "name": "stdout",
     "output_type": "stream",
     "text": [
      "13\n",
      "2 12 9 16 10 5 3 20 25 11 1 8 6 \n",
      "4\n",
      "1 2 3 5\n"
     ]
    }
   ],
   "source": [
    "# Main\n",
    "n=int(input())\n",
    "lst=list(int(i) for i in input().strip().split(' '))\n",
    "k=int(input())\n",
    "ans=kSmallest(lst, k)\n",
    "kSmallest(lst, k)\n",
    "ans.sort()\n",
    "print(*ans, sep=' ')"
   ]
  },
  {
   "cell_type": "code",
   "execution_count": 21,
   "id": "ea3ad90a",
   "metadata": {},
   "outputs": [],
   "source": [
    "### kth larest elements"
   ]
  },
  {
   "cell_type": "code",
   "execution_count": null,
   "id": "2960522e",
   "metadata": {},
   "outputs": [],
   "source": [
    "import heapq\n",
    "def kLargest(lst, k):\n",
    "    arr=lst[0:k]\n",
    "    \n",
    "    heapq.heapify(arr)\n",
    "    \n",
    "    for i in range (k,n):\n",
    "        if arr[0]<lst[i]:\n",
    "            heapq.heappop(arr)\n",
    "            heapq.heappush(arr,lst[i])\n",
    "            \n",
    "        elif arr[0]==lst[i]:\n",
    "            heapq.heappush(arr,lst[i])\n",
    "            \n",
    "    return arr\n",
    "        \n",
    "            "
   ]
  },
  {
   "cell_type": "code",
   "execution_count": 9,
   "id": "abad999f",
   "metadata": {},
   "outputs": [],
   "source": [
    "def buildHeap(arr):\n",
    "    for i in range (1,len(arr)):\n",
    "        cidx=i\n",
    "        pidx=(cidx-1)//2\n",
    "        \n",
    "        while cidx>=0 and pidx>=0 and  arr[cidx]<arr[pidx]:\n",
    "            arr[cidx],arr[pidx]=arr[pidx],arr[cidx]\n",
    "            cidx=pidx\n",
    "            pidx=(cidx-1)//2\n",
    "\n",
    "    return arr"
   ]
  },
  {
   "cell_type": "code",
   "execution_count": 10,
   "id": "4c600cf8",
   "metadata": {
    "scrolled": true
   },
   "outputs": [
    {
     "name": "stdout",
     "output_type": "stream",
     "text": [
      "[1, 2, 3, 5]\n"
     ]
    }
   ],
   "source": [
    "arr=[5,2,3,1]\n",
    "buildHeap(arr)\n",
    "print(arr)"
   ]
  },
  {
   "cell_type": "markdown",
   "id": "36cab47f",
   "metadata": {},
   "source": [
    "### Max Priority Queue"
   ]
  },
  {
   "cell_type": "code",
   "execution_count": null,
   "id": "a521b166",
   "metadata": {},
   "outputs": [],
   "source": [
    "class priorityQueueNode:\n",
    "    \n",
    "    def __init__(self,val,priority):\n",
    "        self.val=val\n",
    "        self.priority=priority\n",
    "        \n",
    "class max_priority_queue:\n",
    "    def __init__(self):\n",
    "        self.pq=[]\n",
    "        \n",
    "    \n",
    "    def _perculate_up(self):\n",
    "        child_idx=len(self.pq)-1\n",
    "        p_idx= (child_idx-1)//2\n",
    "        while p_idx>=0 and child_idx>=0:\n",
    "            if (self.pq[child_idx]>self.pq[p_idx]):\n",
    "                self.pq[child_idx],self.pq[p_idx]=self.pq[p_idx],self.pq[child_idx]\n",
    "            child_idx=p_idx  \n",
    "            p_idx= (child_idx-1)//2\n",
    "                \n",
    "                \n",
    "                \n",
    "    def getSize(self):\n",
    "        return len(self.pq)  \n",
    "        \n",
    "    def isEmpty (self):\n",
    "        if len(self.pq)==0:\n",
    "            return True\n",
    "        return False\n",
    "        \n",
    "        \n",
    "    def insert (self,val,priority):\n",
    "        newNode=priorityQueueNode(val,priority)\n",
    "        self.pq.append(newNode)\n",
    "        self._perculate_up()\n",
    "        \n",
    "        \n",
    "        \n",
    "    def getMax (self):\n",
    "        return self.pq[0] \n",
    "        \n",
    "        \n",
    "#     def removeMax (self):\n",
    "        \n",
    "        \n",
    "    \n",
    "    \n",
    "    \n",
    "        \n",
    "        "
   ]
  }
 ],
 "metadata": {
  "kernelspec": {
   "display_name": "Python 3",
   "language": "python",
   "name": "python3"
  },
  "language_info": {
   "codemirror_mode": {
    "name": "ipython",
    "version": 3
   },
   "file_extension": ".py",
   "mimetype": "text/x-python",
   "name": "python",
   "nbconvert_exporter": "python",
   "pygments_lexer": "ipython3",
   "version": "3.8.8"
  }
 },
 "nbformat": 4,
 "nbformat_minor": 5
}
