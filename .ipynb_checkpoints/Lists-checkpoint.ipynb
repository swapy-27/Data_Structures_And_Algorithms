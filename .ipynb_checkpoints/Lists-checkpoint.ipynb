{
 "cells": [
  {
   "cell_type": "code",
   "execution_count": 2,
   "id": "6b92a3ee",
   "metadata": {},
   "outputs": [],
   "source": [
    "arr1 = []"
   ]
  },
  {
   "cell_type": "code",
   "execution_count": 3,
   "id": "84b8f162",
   "metadata": {},
   "outputs": [],
   "source": [
    "arr2 = [1,'a',[1,2,3],(1,2),{'A':4}]\n"
   ]
  },
  {
   "cell_type": "code",
   "execution_count": 4,
   "id": "d60eb037",
   "metadata": {},
   "outputs": [
    {
     "data": {
      "text/plain": [
       "(1, 2)"
      ]
     },
     "execution_count": 4,
     "metadata": {},
     "output_type": "execute_result"
    }
   ],
   "source": [
    "arr2[3]\n"
   ]
  },
  {
   "cell_type": "code",
   "execution_count": 5,
   "id": "2d91ddda",
   "metadata": {},
   "outputs": [
    {
     "data": {
      "text/plain": [
       "{'A': 4}"
      ]
     },
     "execution_count": 5,
     "metadata": {},
     "output_type": "execute_result"
    }
   ],
   "source": [
    "arr2[4]"
   ]
  },
  {
   "cell_type": "code",
   "execution_count": 6,
   "id": "e0a30db7",
   "metadata": {},
   "outputs": [
    {
     "data": {
      "text/plain": [
       "{'A': 4}"
      ]
     },
     "execution_count": 6,
     "metadata": {},
     "output_type": "execute_result"
    }
   ],
   "source": [
    "arr2[-1]"
   ]
  },
  {
   "cell_type": "code",
   "execution_count": 7,
   "id": "16e65625",
   "metadata": {},
   "outputs": [
    {
     "name": "stdout",
     "output_type": "stream",
     "text": [
      "[1, 2, 3, 1, 'a', [1, 2, 3], (1, 2), {'A': 4}]\n"
     ]
    }
   ],
   "source": [
    "arr = [1,2,3]\n",
    "\n",
    "print(arr+arr2)"
   ]
  },
  {
   "cell_type": "code",
   "execution_count": 8,
   "id": "99f8f5e8",
   "metadata": {},
   "outputs": [
    {
     "name": "stdout",
     "output_type": "stream",
     "text": [
      "[1, 'a', [1, 2, 3], (1, 2), {'A': 4}, 1, 'a', [1, 2, 3], (1, 2), {'A': 4}, 1, 'a', [1, 2, 3], (1, 2), {'A': 4}]\n"
     ]
    }
   ],
   "source": [
    "print(arr2*3)"
   ]
  },
  {
   "cell_type": "code",
   "execution_count": null,
   "id": "78167bac",
   "metadata": {},
   "outputs": [],
   "source": []
  }
 ],
 "metadata": {
  "kernelspec": {
   "display_name": "Python 3",
   "language": "python",
   "name": "python3"
  },
  "language_info": {
   "codemirror_mode": {
    "name": "ipython",
    "version": 3
   },
   "file_extension": ".py",
   "mimetype": "text/x-python",
   "name": "python",
   "nbconvert_exporter": "python",
   "pygments_lexer": "ipython3",
   "version": "3.8.8"
  }
 },
 "nbformat": 4,
 "nbformat_minor": 5
}
