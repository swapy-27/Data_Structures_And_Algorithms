{
 "cells": [
  {
   "cell_type": "code",
   "execution_count": 14,
   "id": "30a71e2d",
   "metadata": {},
   "outputs": [],
   "source": [
    "def towerHanoi(n,a,b,c):\n",
    "    if n==1:\n",
    "        print('Move disc '+str(n)+' from '+a+'->'+b)\n",
    "        return\n",
    "        \n",
    "    towerHanoi(n-1,a,c,b)\n",
    "#     print('Move disc '+str(n)+' from '+a+'->'+b)\n",
    "    towerHanoi(1,a,b,c)\n",
    "    print('Move disc '+str(n)+' from '+a+'->'+b)\n",
    "    towerHanoi(n-1,b,a,c)"
   ]
  },
  {
   "cell_type": "code",
   "execution_count": 15,
   "id": "201b4410",
   "metadata": {},
   "outputs": [
    {
     "name": "stdout",
     "output_type": "stream",
     "text": [
      "Move disc 1 from s->h\n",
      "Move disc 1 from s->d\n",
      "Move disc 2 from s->d\n",
      "Move disc 1 from d->s\n",
      "Move disc 1 from s->h\n",
      "Move disc 3 from s->h\n",
      "Move disc 1 from h->d\n",
      "Move disc 1 from h->s\n",
      "Move disc 2 from h->s\n",
      "Move disc 1 from s->h\n"
     ]
    }
   ],
   "source": [
    "towerHanoi(3,'s','h','d')"
   ]
  },
  {
   "cell_type": "code",
   "execution_count": 18,
   "id": "823a802b",
   "metadata": {},
   "outputs": [],
   "source": [
    "def subsetSums(arr, n,s=0,ans=[]):\n",
    "    if n==0:\n",
    "        ans.append(s)\n",
    "        print(ans)\n",
    "        return ans\n",
    "    subsetSums(arr[1:],n-1,s+arr[0],ans)\n",
    "    subsetSums(arr[1:],n-1,s,ans)"
   ]
  },
  {
   "cell_type": "code",
   "execution_count": 19,
   "id": "a96da60c",
   "metadata": {},
   "outputs": [
    {
     "name": "stdout",
     "output_type": "stream",
     "text": [
      "[8]\n",
      "[8, 7]\n",
      "[8, 7, 6]\n",
      "[8, 7, 6, 5]\n",
      "[8, 7, 6, 5, 3]\n",
      "[8, 7, 6, 5, 3, 2]\n",
      "[8, 7, 6, 5, 3, 2, 1]\n",
      "[8, 7, 6, 5, 3, 2, 1, 0]\n",
      "None\n"
     ]
    }
   ],
   "source": [
    "print(subsetSums([5,2,1],3))"
   ]
  },
  {
   "cell_type": "code",
   "execution_count": null,
   "id": "66795d72",
   "metadata": {},
   "outputs": [],
   "source": []
  }
 ],
 "metadata": {
  "kernelspec": {
   "display_name": "Python 3",
   "language": "python",
   "name": "python3"
  },
  "language_info": {
   "codemirror_mode": {
    "name": "ipython",
    "version": 3
   },
   "file_extension": ".py",
   "mimetype": "text/x-python",
   "name": "python",
   "nbconvert_exporter": "python",
   "pygments_lexer": "ipython3",
   "version": "3.8.8"
  }
 },
 "nbformat": 4,
 "nbformat_minor": 5
}
